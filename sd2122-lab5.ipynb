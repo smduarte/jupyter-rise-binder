{
 "cells": [
  {
   "cell_type": "markdown",
   "metadata": {
    "slideshow": {
     "slide_type": "skip"
    }
   },
   "source": [
    "<style>\n",
    ".jp-RenderedHTMLCommon pre {\n",
    "        background-color: #FFFFF0FF;\n",
    "    }\n",
    "</style>"
   ]
  },
  {
   "cell_type": "markdown",
   "metadata": {
    "slideshow": {
     "slide_type": "slide"
    }
   },
   "source": [
    "# Distributed Systems\n",
    "## 2021/22\n",
    "\n",
    "Lab 5\n",
    "\n",
    "Nuno Preguiça, Sérgio Duarte, Dina Borrego, João Vilalonga"
   ]
  },
  {
   "cell_type": "markdown",
   "metadata": {
    "slideshow": {
     "slide_type": "slide"
    }
   },
   "source": [
    "# Goals\n",
    "\n",
    "In the end of this lab you should be able to:\n",
    "\n",
    "+ Understand what a Web Service SOAP is\n",
    "+ Know how to develop a WS SOAP and Server in Java\n",
    "+ Know how to develop a SOAP Client in Java\n",
    "+ Understand xxx"
   ]
  },
  {
   "cell_type": "markdown",
   "metadata": {
    "slideshow": {
     "slide_type": "slide"
    }
   },
   "source": [
    "# SOAP : Simple Object Access Protocol\n",
    "\n",
    "A Messaging protocol specification for exchanging structured\n",
    "data between web services.\n",
    "\n",
    "+ Specially tailored for supporting machine-to-machine inter-operation and interaction.\n",
    "+ Data is represented in XML (which is more verbose than Json for instance).\n",
    "+ Operates on top of application-level protocols, usually HTTP."
   ]
  },
  {
   "cell_type": "markdown",
   "metadata": {
    "slideshow": {
     "slide_type": "slide"
    }
   },
   "source": [
    "# SOAP WSDL - Interface Description Language for Web Services\n",
    "\n",
    "Every Web Service SOAP exposes their interface through a machine processable format named WSDL.\n",
    "\n",
    "You can check the WSDL specification in your browser using a link with this format: \n",
    "\n",
    "`http:/machine:port/ServicePath/?wsdl`\n",
    "\n"
   ]
  },
  {
   "cell_type": "markdown",
   "metadata": {},
   "source": [
    "# SOAP WSDL - Interface Description Language for Web Services\n",
    "\n",
    "The WSDL document specifies:\n",
    "\n",
    "+ The operations exposed by the web service.\n",
    "+ The message (and their format) used to execute each operation (including the format of arguments and return values)\n",
    "+ Specifies how and where the service can be reached."
   ]
  },
  {
   "cell_type": "markdown",
   "metadata": {
    "slideshow": {
     "slide_type": "notes"
    }
   },
   "source": [
    "A detailed explanation of the structure of WSDL files can be found [here](https://www.w3schools.com/xml/xml_wsdl.asp)."
   ]
  },
  {
   "cell_type": "markdown",
   "metadata": {
    "slideshow": {
     "slide_type": "slide"
    }
   },
   "source": [
    "```xml\n",
    "<definitions xmlns:wsu=\"http://docs.oasis-open.org/wss/2004/01/oasis-200401-wss-wssecurity-utility-1.0.xsd\" xmlns:wsp=\"http://www.w3.org/ns/ws-policy\" xmlns:wsp1_2=\"http://schemas.xmlsoap.org/ws/2004/09/policy\" xmlns:wsam=\"http://www.w3.org/2007/05/addressing/metadata\" xmlns:soap=\"http://schemas.xmlsoap.org/wsdl/soap/\" xmlns:tns=\"http://sd2122\" xmlns:xsd=\"http://www.w3.org/2001/XMLSchema\" xmlns=\"http://schemas.xmlsoap.org/wsdl/\" targetNamespace=\"http://sd2122\" name=\"users\">\n",
    "<types>\n",
    "<xsd:schema>\n",
    "<xsd:import namespace=\"http://sd2122\" schemaLocation=\"http://192.168.100.2:13456/soap?xsd=1\"/>\n",
    "</xsd:schema>\n",
    "</types>\n",
    "<message name=\"createUser\">\n",
    "<part name=\"parameters\" element=\"tns:createUser\"/>\n",
    "</message>\n",
    "<message name=\"UsersException\">\n",
    "<part name=\"fault\" element=\"tns:UsersException\"/>\n",
    "</message>\n",
    "<portType name=\"SoapUsers\">\n",
    "<operation name=\"createUser\">\n",
    "<input wsam:Action=\"http://sd2122/SoapUsers/createUserRequest\" message=\"tns:createUser\"/>\n",
    "<output wsam:Action=\"http://sd2122/SoapUsers/createUserResponse\" message=\"tns:createUserResponse\"/>\n",
    "<fault message=\"tns:UsersException\" name=\"UsersException\" wsam:Action=\"http://sd2122/SoapUsers/createUser/Fault/UsersException\"/>\n",
    "</operation>\n",
    "</portType>\n",
    "<binding name=\"SoapUsersWebServicePortBinding\" type=\"tns:SoapUsers\">\n",
    "<soap:binding transport=\"http://schemas.xmlsoap.org/soap/http\" style=\"document\"/>\n",
    "<operation name=\"createUser\">\n",
    "<soap:operation soapAction=\"\"/>\n",
    "<input>\n",
    "<soap:body use=\"literal\"/>\n",
    "</input>\n",
    "<output>\n",
    "<soap:body use=\"literal\"/>\n",
    "</output>\n",
    "<fault name=\"UsersException\">\n",
    "<soap:fault name=\"UsersException\" use=\"literal\"/>\n",
    "</fault>\n",
    "</operation>\n",
    "</binding>\n",
    "<service name=\"users\">\n",
    "<port name=\"SoapUsersWebServicePort\" binding=\"tns:SoapUsersWebServicePortBinding\">\n",
    "<soap:address location=\"http://192.168.100.2:13456/soap\"/>\n",
    "</port>\n",
    "</service>\n",
    "</definitions>\n",
    "```"
   ]
  },
  {
   "cell_type": "markdown",
   "metadata": {
    "slideshow": {
     "slide_type": "slide"
    }
   },
   "source": [
    "# SOAP Architecture\n",
    "\n",
    "<img src=\"https://preguica.github.io/sd2122/praticas2122/aula5/soap-architecture.png\" width=\"75%\" ><img>"
   ]
  },
  {
   "cell_type": "markdown",
   "metadata": {
    "slideshow": {
     "slide_type": "notes"
    }
   },
   "source": [
    "The WSDL document is fetched by the client prior to the first request to the server.\n",
    "\n",
    "The client performs service requests by exchanging messages using SOAP XML protocol, usually over\n",
    "HTTP, but SMTP can also be used."
   ]
  },
  {
   "cell_type": "markdown",
   "metadata": {
    "slideshow": {
     "slide_type": "slide"
    }
   },
   "source": [
    "# SOAP Interaction\n",
    "\n",
    "SOAP Web Services are not tied to a particular programming language...\n",
    "\n",
    "WDSL XML document only describes the service, in terms of available operations, parameters, results and faults. \n",
    "\n",
    "It is designed to be parsed by machines to generate client-side stubs automatically.\n",
    "\n",
    "In Java, the JAX-WS framework can be used to develop SOAP clients\n",
    "and servers with little effort.\n",
    " + Client-side, a server proxy is generated automatically from the WSDL document of a running service instance;\n",
    " + Server-side, the stub is generated automatically from Java annonations.\n",
    " "
   ]
  },
  {
   "cell_type": "markdown",
   "metadata": {
    "slideshow": {
     "slide_type": "slide"
    }
   },
   "source": [
    "# SOAP – Additional Aspects\n",
    "\n",
    "Parameters and return values in SOAP are passed by ***value***.\n",
    "\n",
    "Types of parameters and return values can be of different on the client side,\n",
    "\n",
    "Example: `String[] -> List<String>`\n",
    "\n",
    "Common, when different programming languages are involved, or depending\n",
    "on the tools used to generate the stubs automatically.\n"
   ]
  },
  {
   "cell_type": "markdown",
   "metadata": {
    "slideshow": {
     "slide_type": "notes"
    }
   },
   "source": [
    "Note:\n",
    "\n",
    "Passing references between clients and servers and vice-versa, is **not possible**...\n",
    "\n",
    "Clients and servers do not have to be implemented in the same programming language;\n",
    "\n",
    "Client and server architectures can be totally different and represent data differently."
   ]
  },
  {
   "cell_type": "markdown",
   "metadata": {
    "slideshow": {
     "slide_type": "slide"
    }
   },
   "source": [
    "# SOAP Web Services in Java"
   ]
  },
  {
   "cell_type": "markdown",
   "metadata": {
    "slideshow": {
     "slide_type": "slide"
    }
   },
   "source": [
    "## Server-side\n",
    "\n",
    "Service API, modelled as a **Java interface**;\n",
    "\n",
    "Service logic, implemented in a **Java class**.\n",
    "\n",
    "Java annotations to expose:\n",
    "+ The class that implements the service;\n",
    "+ Which methods are made available to clients;\n",
    "+ Exceptions that might be generated by methods exposed by the service;\n",
    "+ Namespace information (to avoid name clashes with other Web Services)"
   ]
  },
  {
   "cell_type": "markdown",
   "metadata": {
    "slideshow": {
     "slide_type": "slide"
    }
   },
   "source": [
    "## Server-side - Users WebService Example\n",
    "\n",
    "\n",
    "```java\n",
    "@WebService(serviceName=SoapUsers.NAME, \n",
    "            targetNamespace=SoapUsers.NAMESPACE, \n",
    "            endpointInterface=SoapUsers.INTERFACE)\n",
    "public interface SoapUsers {\n",
    "\n",
    "\tstatic final String NAME = \"users\";\n",
    "\tstatic final String NAMESPACE = \"http://sd2122\";\n",
    "\tstatic final String INTERFACE = \"sd2122.aula5.api.service.soap.SoapUsers\";\n",
    "\n",
    "\t@WebMethod\n",
    "\tString createUser(User user) throws UsersException;\n",
    "    ...\n",
    "```"
   ]
  },
  {
   "cell_type": "markdown",
   "metadata": {
    "slideshow": {
     "slide_type": "notes"
    }
   },
   "source": [
    "Standard Java Interface enriched with annotations and identifying the methods supported by your service.\n"
   ]
  },
  {
   "cell_type": "markdown",
   "metadata": {
    "slideshow": {
     "slide_type": "slide"
    }
   },
   "source": [
    "### @WebService\n",
    "\n",
    "Used to expose an interface and its implementation class as a remotely\n",
    "accessible Soap WebService.\n",
    "\n",
    "`serviceName` - the name of the webservice;\n",
    "\n",
    "`targetNamespace` - used to fully qualify webservice names to avoid clashes with other webservices;\n",
    "\n",
    "`endpointInterface` - name of the Java interface to instanciate, when the client is Java-based."
   ]
  },
  {
   "cell_type": "markdown",
   "metadata": {
    "slideshow": {
     "slide_type": "slide"
    }
   },
   "source": [
    "### @WebMethod\n",
    "\n",
    "Exposes which methods of the service interface are acessible remotely."
   ]
  },
  {
   "cell_type": "markdown",
   "metadata": {},
   "source": [
    "### @WebFault\n",
    "\n",
    "In Soap, faults and errors are modelled as exceptions in the service API.\n",
    "\n",
    "Exceptions thrown in methods that are part of the service API need to be annotated with `@WebFault`\n",
    "\n",
    "```java\n",
    "@WebFault\n",
    "public class UsersException extends Exception {\n",
    "\n",
    "\tpublic UsersException() {\n",
    "\t\tsuper(\"\");\n",
    "\t}\n",
    "\n",
    "\tpublic UsersException(String errorMessage ) {\n",
    "\t\tsuper(errorMessage);\n",
    "\t}\n",
    "```"
   ]
  },
  {
   "cell_type": "markdown",
   "metadata": {
    "slideshow": {
     "slide_type": "slide"
    }
   },
   "source": [
    "## Service Implementation\n",
    "\n",
    "The implementation class needs to **repeat** the (same) `@WebService`annotation.\n",
    "\n",
    "`@WebMethod` annotations can be omitted.\n",
    "\n",
    "```java\n",
    "@WebService(serviceName=SoapUsers.NAME, targetNamespace=SoapUsers.NAMESPACE, endpointInterface=SoapUsers.INTERFACE)\n",
    "public class SoapUsersWebService implements SoapUsers {\n",
    "\n",
    "\t@Override\n",
    "\tpublic String createUser(User user) throws UsersException {\n",
    "        ...\n",
    "    }\n",
    "...\n",
    "```"
   ]
  },
  {
   "cell_type": "markdown",
   "metadata": {
    "slideshow": {
     "slide_type": "notes"
    }
   },
   "source": [
    "Unlike JAX-RS, the implementation class ***does not require*** a public no-args constructor.\n",
    "\n",
    "Methods are normal Java methods..."
   ]
  },
  {
   "cell_type": "markdown",
   "metadata": {
    "slideshow": {
     "slide_type": "slide"
    }
   },
   "source": [
    "## Service Instantiation - embedded server\n",
    "\n",
    "The simplest way to instantiate a SOAP webservice is to use the [Endpoint](https://jakarta.ee/specifications/platform/9/apidocs/jakarta/xml/ws/endpoint) class to publish the service\n",
    "to a dedicated HTTP server.\n",
    "\n",
    "```java\n",
    "var serverBaseURI = \"http://host:port/service\";\n",
    "Endpoint.publish(serverBaseURI, new SoapUsersWebService());\n",
    "```\n"
   ]
  },
  {
   "cell_type": "markdown",
   "metadata": {
    "slideshow": {
     "slide_type": "notes"
    }
   },
   "source": [
    "## Service Instantiation - external server\n",
    "\n",
    "It is also possible to deploy SOAP web services in an existing HTTP server.\n",
    "\n",
    "This method will be used and explained later, to allow TLS\n",
    "secure HTTPS communications to be used in the second lab assignment."
   ]
  },
  {
   "cell_type": "markdown",
   "metadata": {
    "slideshow": {
     "slide_type": "notes"
    }
   },
   "source": [
    "### Server Debugging\n",
    "\n",
    "Set the following properties before the service is published to log incoming requests.\n",
    "\n",
    "```java\n",
    "System.setProperty(\"com.sun.xml.ws.transport.http.client.HttpTransportPipe.dump\", \"true\");\n",
    "System.setProperty(\"com.sun.xml.internal.ws.transport.http.client.HttpTransportPipe.dump\", \"true\");\n",
    "System.setProperty(\"com.sun.xml.ws.transport.http.HttpAdapter.dump\", \"true\");\n",
    "System.setProperty(\"com.sun.xml.internal.ws.transport.http.HttpAdapter.dump\", \"true\");\n",
    "```"
   ]
  },
  {
   "cell_type": "markdown",
   "metadata": {
    "slideshow": {
     "slide_type": "slide"
    }
   },
   "source": [
    "## Client-side - Stub generation\n",
    "\n",
    "Given a URL to an instance of the service, the following code automatically generates\n",
    "a *stub* object that implements the SoapUsers interface.\n",
    "\n",
    "```java\n",
    "QName qname = new QName(SoapUsers.NAMESPACE, SoapUsers.NAME);\t\t\n",
    "Service service = Service.create( URI.create(serverUrl + \"?wsdl\").toURL(), qname);\t\t\n",
    "SoapUsers users = service.getPort(sd2122.aula5.api.service.soap.SoapUsers.class);\n",
    "```"
   ]
  },
  {
   "cell_type": "markdown",
   "metadata": {
    "slideshow": {
     "slide_type": "slide"
    }
   },
   "source": [
    "## Client-side - Remote method invocation\n",
    "\n",
    "Invoking methods on the `users` *stub*, produces remote invocations of those methods on the service pointed\n",
    "by the URL used to generate the *stub*.\n",
    "\n",
    "```java\n",
    "...\n",
    "SoapUsers users = service.getPort(sd2122.aula5.api.service.soap.SoapUsers.class);\n",
    "\n",
    "User u = new User( userId, fullName, email, password);\n",
    "\n",
    "try {\n",
    "    var result = users.createUser( u );\n",
    "    System.out.println(\"Result: \" + result);\n",
    "} catch( UsersException x ) {\n",
    "    // handle error\n",
    "}\n",
    "```"
   ]
  },
  {
   "cell_type": "markdown",
   "metadata": {
    "slideshow": {
     "slide_type": "slide"
    }
   },
   "source": [
    "## Client-side - Invocation failures\n",
    "\n",
    "Client-side invocation failures are dealt by catching `WebServiceException`\n",
    "\n",
    "```java \n",
    "...\n",
    "SoapUsers users = service.getPort(sd2122.aula5.api.service.soap.SoapUsers.class);\n",
    "\n",
    "User u = new User( userId, fullName, email, password);\n",
    "\n",
    "try {\n",
    "    var result = users.createUser( u );\n",
    "    System.out.println(\"Result: \" + result);\n",
    "} catch( UsersException x ) {\n",
    "    // handle service error\n",
    "} catch( WebServiceException we) {\n",
    "    // handle invocation error, maybe retry?\n",
    "}\n",
    "\n",
    "```"
   ]
  },
  {
   "cell_type": "markdown",
   "metadata": {
    "slideshow": {
     "slide_type": "slide"
    }
   },
   "source": [
    "## Client-side - Connection timeouts\n",
    "\n",
    "To set the communication timeout values used by the client...\n",
    "\n",
    "```java\n",
    "static final int READ_TIMEOUT = 5000;\n",
    "static final int CONNECT_TIMEOUT = 5000;\n",
    "...\n",
    "SoapUsers users = service.getPort(sd2122.aula5.api.service.soap.SoapUsers.class);\n",
    "\n",
    "((BindingProvider) users).getRequestContext().put(BindingProviderProperties.CONNECT_TIMEOUT, CONNECT_TIMEOUT);\n",
    "((BindingProvider) users).getRequestContext().put(BindingProviderProperties.REQUEST_TIMEOUT, READ_TIMEOUT);\n",
    "```\n",
    "\n"
   ]
  },
  {
   "cell_type": "markdown",
   "metadata": {
    "slideshow": {
     "slide_type": "slide"
    }
   },
   "source": [
    "# Programming Considerations\n",
    "\n",
    "The first project ideally will ***mix*** REST and SOAP services...\n",
    "\n",
    "## Goals\n",
    "\n",
    "1. Avoid repeating the same service logic code across servers of different tecnologies;\n",
    "2. Allow clients to interact with a web service implemented in different technologies."
   ]
  },
  {
   "cell_type": "markdown",
   "metadata": {
    "slideshow": {
     "slide_type": "slide"
    }
   },
   "source": [
    "## Sharing code between a REST and a SOAP web service\n",
    "\n",
    "Service logic is the **same**, the way results and errors are \n",
    "reported back to the caller is **different**.\n",
    "\n",
    "---\n",
    "\n",
    "**Solution**: \n",
    "\n",
    "1. Model and implement the service logic in a way that abstracts how results and errors are returned to the caller.\n",
    "\n",
    "2. REST and SOAP versions of the service will share the more abstract implementation."
   ]
  },
  {
   "cell_type": "markdown",
   "metadata": {},
   "source": [
    "### Result&lt;T&gt;\n",
    "\n",
    "Will be used to represent either a (success) value of type T or an error.\n",
    "\n",
    "```java\n",
    "public interface Result<T> {\n",
    "\n",
    "\tenum ErrorCode{ OK, CONFLICT, NOT_FOUND, BAD_REQUEST, FORBIDDEN, INTERNAL_ERROR, NOT_IMPLEMENTED};\n",
    "\t\n",
    "\tboolean isOK();\n",
    "\t\n",
    "\tT value();\n",
    "\n",
    "\tErrorCode error();\n",
    "\t\n",
    "\tstatic <T> Result<T> ok() {...}\n",
    "\n",
    "\tstatic <T> Result<T> ok( T result ){...}\n",
    "\n",
    "\tstatic <T> Result<T> error(ErrorCode error) {...}\n",
    "}\n",
    "```"
   ]
  },
  {
   "cell_type": "markdown",
   "metadata": {
    "slideshow": {
     "slide_type": "slide"
    }
   },
   "source": [
    "### Abstract Users Service API \n",
    "\n",
    "An abstract version of the service API captures the shared service logic...\n",
    "\n",
    "```java\n",
    "public interface Users {\n",
    "\n",
    "\tResult<String> createUser(User user);\n",
    "\t\n",
    "\tResult<User> getUser(String userId, String password);\n",
    "\t\n",
    "\tResult<User> updateUser(String userId, String password, User user);\n",
    "\t\n",
    "\tResult<User> deleteUser(String userId, String password);\n",
    "\t\n",
    "\tResult<List<User>> searchUsers(String pattern);\t\n",
    "}\n",
    "```"
   ]
  },
  {
   "cell_type": "markdown",
   "metadata": {},
   "source": [
    "### Shared Users Service Logic Implementation \n",
    "\n",
    "A regular Java class implements the service logic, producing\n",
    "the expected behavior in terms of `Result<T>`\n",
    "\n",
    "```java\n",
    "public class JavaUsers {\n",
    "    \n",
    "    Result<String> createUser(User user) {\n",
    "        ...\n",
    "         if(...)\n",
    "                return Result.error(ErrorCode.CONFLICT);\n",
    "\n",
    "        return Result.ok( user.userId );\n",
    "    }\n",
    "    \n",
    "}\n",
    "```"
   ]
  },
  {
   "cell_type": "markdown",
   "metadata": {
    "slideshow": {
     "slide_type": "slide"
    }
   },
   "source": [
    "## REST Service implementation \n",
    "\n",
    "```java\n",
    "public class UsersResources implements RestUsers {\n",
    "    \n",
    "    final Users impl = new JavaUsers();\n",
    "    \n",
    "    public String createUser(User user) {\n",
    "        var result = impl.createUser( user );\n",
    "        if( result.isOK() )\n",
    "            return return result.value();\n",
    "        else\n",
    "            throw new WebApplicationException( ... ) ;\n",
    "    }\n",
    "    ...\n",
    "}\n",
    "```"
   ]
  },
  {
   "cell_type": "markdown",
   "metadata": {
    "slideshow": {
     "slide_type": "notes"
    }
   },
   "source": [
    "\n",
    "To complete this idea, we need some additional method to convert the `enum ErrorCode` into an HTTP status code needed\n",
    "to instantiate the `WebApplicationException`.\n",
    "\n",
    "Since all methods will just call the implementation and process the result; this can (and should) be handled in a generic super class generic method (like we did for reRry, in a previous class)."
   ]
  },
  {
   "cell_type": "markdown",
   "metadata": {
    "slideshow": {
     "slide_type": "slide"
    }
   },
   "source": [
    "## SOAP Service implementation \n",
    "\n",
    "```java\n",
    "public class UsersWebService implements SoapUsers {\n",
    "    \n",
    "    final Users impl = new JavaUsers();\n",
    "    \n",
    "    public String createUser(User user) throws UsersException {\n",
    "        var result = impl.createUser( user );\n",
    "        if( result.isOK() )\n",
    "            return return result.value();\n",
    "        else\n",
    "            throw new UsersException( ... ) ;\n",
    "    }\n",
    "    ...\n",
    "}\n",
    "```"
   ]
  },
  {
   "cell_type": "markdown",
   "metadata": {
    "slideshow": {
     "slide_type": "notes"
    }
   },
   "source": [
    "\n",
    "In this case, we have a way of converting the `enum ErrorCode` into a message to use as the argument of the `UsersException`.\n",
    "\n",
    "The same observation made above for REST applies, regarding how to process and return the result."
   ]
  },
  {
   "cell_type": "markdown",
   "metadata": {
    "slideshow": {
     "slide_type": "slide"
    }
   },
   "source": [
    "# Interoperable Services\n",
    "\n",
    "In the project, services will interact with each other. For instance, `Directory` will have\n",
    "to interact with both `Users` and `Files`.\n",
    "\n",
    "In a **mixed** REST and SOAP deployment, services will need to be REST clients and SOAP clients\n",
    "of a different service, in any combination.\n",
    "\n",
    "### Goal\n",
    "Avoid code like this all over the methods that need to call other services:\n",
    "```java\n",
    "        if( serverURI.endsWith(\"rest\") )\n",
    "            // REST client code goes here\n",
    "        else\n",
    "            // SOAP client code goes here\n",
    "```"
   ]
  },
  {
   "cell_type": "markdown",
   "metadata": {
    "slideshow": {
     "slide_type": "slide"
    }
   },
   "source": [
    "## Client Factories\n",
    "\n",
    "The [factory method pattern](https://en.wikipedia.org/wiki/Factory_method_pattern) allows to retrieve a REST or SOAP client implementation given the URI of the server.\n",
    "\n",
    "The factory returns an object that hides the implementation details, in this case the REST or SOAP nature of server."
   ]
  },
  {
   "cell_type": "markdown",
   "metadata": {
    "slideshow": {
     "slide_type": "slide"
    }
   },
   "source": [
    "### REST Client Sketch\n",
    "\n",
    "```java\n",
    "public class RestUsersClient implements Users {\n",
    "\n",
    "    public Result<T> createUser( user ) {\n",
    "        Response r = target.path(...)\n",
    "        ...\n",
    "    }\n",
    "}\n",
    "```"
   ]
  },
  {
   "cell_type": "markdown",
   "metadata": {
    "slideshow": {
     "slide_type": "notes"
    }
   },
   "source": [
    "Note that we are implementing the abstract version of service `Users`, using Jersey client code."
   ]
  },
  {
   "cell_type": "markdown",
   "metadata": {
    "slideshow": {
     "slide_type": "slide"
    }
   },
   "source": [
    "### SOAP Client Sketch \n",
    "\n",
    "```java\n",
    "public class SoapUsersClient implements Users {\n",
    "\n",
    "    public Result<T> createUser( user ) {\n",
    "        SoapUsers users = ...\n",
    "        ...\n",
    "    }\n",
    "}\n",
    "```"
   ]
  },
  {
   "cell_type": "markdown",
   "metadata": {
    "slideshow": {
     "slide_type": "notes"
    }
   },
   "source": [
    "Note that we are implementing the abstract version of service `Users`, using the SOAP client stub."
   ]
  },
  {
   "cell_type": "markdown",
   "metadata": {},
   "source": [
    "### ClientFactory Sketch\n",
    "\n",
    "The factory decides which client implementation to return based on the server URI.\n",
    "\n",
    "```java\n",
    "public class UsersClientFactory {\n",
    "    \n",
    "    public static Users getClient() {\n",
    "       var serverURI = ... // use discovery to find a uri of the Users service;\n",
    "       if( serverURI.endsWith(\"rest\")\n",
    "          return new RestUsersClient( serverURI );\n",
    "       else\n",
    "          return new SoapUsersClient( serverURI );\n",
    "    }\n",
    "}\n",
    "```"
   ]
  },
  {
   "cell_type": "markdown",
   "metadata": {
    "slideshow": {
     "slide_type": "notes"
    }
   },
   "source": [
    "Note that the factory returns objects that implement the `Users` interface, either\n",
    "implementing the REST client, or the SOAP client.\n",
    "\n",
    "The factory can include a *cache* to avoid discovering and instance the client all the time.\n",
    "\n",
    "Check [Guava](https://github.com/google/guava) for a library that provides configurable caches."
   ]
  },
  {
   "cell_type": "markdown",
   "metadata": {
    "slideshow": {
     "slide_type": "notes"
    }
   },
   "source": [
    "# Exercises\n",
    "\n",
    "1. Download Lab 5 project [code]()<br>\n",
    "\n",
    "2. Create the docker image:\n",
    "    \n",
    "    `mvn clean compile assembly:single docker:build`<br>\n",
    "    \n",
    "3. Execute the server:\n",
    "    \n",
    "    `docker run --rm -t -h users-1 --name users-1 -p 8080:8080 --network sdnet sd2122-aula5-xxxxx-yyyyy`<br>\n",
    "    \n",
    "4. Examine the WSDL service specification in the browser:\n",
    "\n",
    "     [http://localhost:8080/soap/users?wsdl](http://localhost:8080/soap/users?wsdl)<br>\n",
    "     \n",
    "5. Execute the SOAP CreateUsersClient\n",
    "\n",
    "    `docker run -ti --network=sdnet sd2122-aula5-xxxxx-yyyyy /bin/bash`\n",
    "\n",
    "    `java --add-opens java.base/java.lang=ALL-UNNAMED -cp /home/sd/sd2122.jar sd2122.aula5.clients.soap.CreateUsersClient http://users-1:8080/soap nmp \"Nuno Preguiça\" nmp@nova.pt 12345`<br>\n",
    "     \n",
    "6. Execute again the SOAP CreateUsersClient and a conflict error should be reported."
   ]
  }
 ],
 "metadata": {
  "celltoolbar": "Slideshow",
  "kernelspec": {
   "display_name": "Python 3 (ipykernel)",
   "language": "python",
   "name": "python3"
  },
  "language_info": {
   "codemirror_mode": {
    "name": "ipython",
    "version": 3
   },
   "file_extension": ".py",
   "mimetype": "text/x-python",
   "name": "python",
   "nbconvert_exporter": "python",
   "pygments_lexer": "ipython3",
   "version": "3.9.10"
  }
 },
 "nbformat": 4,
 "nbformat_minor": 4
}
