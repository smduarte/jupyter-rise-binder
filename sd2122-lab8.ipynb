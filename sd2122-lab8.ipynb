{
 "cells": [
  {
   "cell_type": "markdown",
   "id": "8342dd47",
   "metadata": {
    "slideshow": {
     "slide_type": "slide"
    }
   },
   "source": [
    "# Distributed Systems\n",
    "## 2021/22\n",
    "\n",
    "Lab 8\n",
    "\n",
    "Nuno Preguiça, Sérgio Duarte, Dina Borrego, João Vilalonga"
   ]
  },
  {
   "cell_type": "markdown",
   "id": "863c6b75",
   "metadata": {
    "slideshow": {
     "slide_type": "slide"
    }
   },
   "source": [
    "# Goals\n",
    "\n",
    "In the end of this lab you should be able to:\n",
    "\n",
    "+ Understand what is OAuth\n",
    "+ How to register an application with Dropbox\n",
    "+ How to generate the credentials needed for OAuth in Dropbox \n",
    "+ How to take advantage of the REST API documentation of Dropbox\n",
    "+ Know how to make requests to Dropbox using OAuth using the library ScribeJava"
   ]
  },
  {
   "cell_type": "markdown",
   "id": "c9840ee2",
   "metadata": {
    "slideshow": {
     "slide_type": "slide"
    }
   },
   "source": [
    "# OAuth\n",
    "\n",
    "Many online services only allow access through secure channels with client authentication.\n",
    "\n",
    "+ Secure channels are provided by SSL/TLS;\n",
    "+ Client authentication is provided by OAuth.\n",
    "\n",
    "OAuth allows users to provide access to resources stored in an external service (eg., Dropbox) to\n",
    "be accessed securely by some other application, without sharing the users'\n",
    "credentials."
   ]
  },
  {
   "cell_type": "markdown",
   "id": "2d055307",
   "metadata": {
    "slideshow": {
     "slide_type": "slide"
    }
   },
   "source": [
    "# OAUTH IN THE CONTEXT OF DISTRIBUTED SYSTEMS"
   ]
  },
  {
   "cell_type": "markdown",
   "id": "b0767d00",
   "metadata": {
    "slideshow": {
     "slide_type": "notes"
    }
   },
   "source": [
    "---"
   ]
  },
  {
   "cell_type": "markdown",
   "id": "c7fe0e0a",
   "metadata": {
    "slideshow": {
     "slide_type": "slide"
    }
   },
   "source": [
    "## OAUTH Application registration\n",
    "\n",
    "Applications that wish to use user’s resources in some external service must register with that service.\n",
    "\n",
    "For example, a web application designed to access the user's own Dropbox will have to be\n",
    "a registered application at Dropbox.\n",
    "\n",
    "• This step creates the authentication pieces for that specific application: **API KEY** and **API SECRET**<br>\n",
    "     -- required arguments for the Dropbox API."
   ]
  },
  {
   "cell_type": "markdown",
   "id": "7ff15288",
   "metadata": {
    "slideshow": {
     "slide_type": "slide"
    }
   },
   "source": [
    "## OAUTH User Authorization\n",
    "\n",
    "To autorize an web application, the user is required to authenticate with the external service and only then enable access to its resources to that particular application.\n",
    "\n",
    "For example, if the external service is Dropbox...\n",
    "\n",
    "+ The user is directed to a login page at Dropbox; \n",
    "+ The user signs in to her account, using her usual Dropbox account credentials; \n",
    "+ If the login is sucessful, the user is presented with a dialog to review and agree to the type of access being asked by the web application to her Dropbox account;\n",
    "\n",
    "+ This authorization process returns an **ACCESS TOKEN** for the (user, web application) pair.\n",
    "-- this token included in the Dropbox API requests, authenticates the web application.\n",
    "\n",
    "The user's Dropbox account credentials are **not shared** with the web application!"
   ]
  },
  {
   "cell_type": "markdown",
   "id": "7d0195fe",
   "metadata": {
    "slideshow": {
     "slide_type": "slide"
    }
   },
   "source": [
    "### Note\n",
    "\n",
    "In this course, we will make it simpler by combining the two prior steps. \n",
    "\n",
    "Basically, we will generate the **API KEY**, **API SECRET** and **ACCESS TOKEN** \n",
    "offline.\n",
    "\n",
    "This is often possible when the **developer** of the application\n",
    "accessing the external service via OAUTH is **authorizing access\n",
    "to her own account**."
   ]
  },
  {
   "cell_type": "markdown",
   "id": "ed907b5c",
   "metadata": {},
   "source": [
    "## Register an Application with Dropbox\n",
    "\n",
    "1. If you do not have one, create a free Dropbox account [here](https://www.dropbox.com/basic)\n",
    "2. Create a Dropbox App [here](https://www.dropbox.com/developers)\n",
    " 1. Select: **Scoped access**\n",
    " 2. Select: **App Folder** <br>\n",
    "     -- good to avoid messing up your regular account...\n",
    " 3. Name your app <br> \n",
    "     -- eg., sd2122_XXXXX_YYYYY\n",
    " 4. Click on **Create app**\n",
    " \n",
    "3. Retrieve your **App Key**, **App secret** and generate the **Access Token**<br>\n",
    "    -- default values are fine.\n",
    "4. In the **Permissions** tab, enable all permissions in **Files and Folders**\n",
    "5. Press **Submit** and you are done.\n",
    "\n",
    "Your Dropbox apps can be managed [here](https://www.dropbox.com/developers/apps?_tk=pilot_lp&_ad=topbar4&_camp=myapps). Use this console to delete an app, or\n",
    "to find its OAuth details again.\n"
   ]
  },
  {
   "cell_type": "markdown",
   "id": "87e4e11a",
   "metadata": {},
   "source": [
    "# Dropbox API Documentation\n",
    "\n",
    "Dropbox API is very well [documented](https://www.dropbox.com/developers/documentation/http/overview).\n",
    "\n",
    "The API is REST-like but does not follow exactly REST conventions,\n",
    "including those adopted in this course.\n",
    "\n",
    "Some important observations:\n",
    "\n",
    "+ Most operations in the API are POST operations, using the body of the HTTP request to pass arguments to operations;\n",
    "\n",
    "+ Requests often require HTTP headers, in some cases also to pass arguments;\n",
    "\n",
    "+ Successful requests return OK on success; they do not return NO_CONTENT on *void*. \n",
    "\n",
    "+ Analyze and follow the documentation carefully to avoid receiving 400 BAD REQUEST replies from the service.<br>\n",
    "    -- When this happens, the reply body usually provides an explanation of why the operation failed."
   ]
  },
  {
   "cell_type": "markdown",
   "id": "127288c7",
   "metadata": {
    "slideshow": {
     "slide_type": "slide"
    }
   },
   "source": [
    "## Dropbox API Referece\n",
    "\n",
    "<img src=\"https://preguica.github.io/sd2122/praticas2122/aula8/api_create_folder.png\"><img>\n"
   ]
  },
  {
   "cell_type": "markdown",
   "id": "05e52cf5",
   "metadata": {
    "slideshow": {
     "slide_type": "notes"
    }
   },
   "source": [
    "Note: Read the API documentation carefully! \n",
    "The Dropbox API is very strict and will return BAD REQUEST to malformed requests. "
   ]
  },
  {
   "cell_type": "markdown",
   "id": "a0507aa1",
   "metadata": {
    "slideshow": {
     "slide_type": "slide"
    }
   },
   "source": [
    "## Dropbox - Create Folder Endpoint\n",
    "\n",
    "To create a new Dropbox folder, we use the [/create_folder](https://www.dropbox.com/developers/documentation/http/documentation#files-create_folder) endpoint.\n",
    "\n",
    "Key pieces of information, as detailed in the documentation:\n",
    "\n",
    "The endpoint URL: [https://api.dropboxapi.com/2/files/create_folder_v2]()\n",
    "\n",
    "The parameters and the result, are both encoded as **JSON**, <br> matching\n",
    "the required **Content-type: application/json** request header,\n",
    "as part of the HTTP request."
   ]
  },
  {
   "cell_type": "markdown",
   "id": "2f6d6e32",
   "metadata": {
    "slideshow": {
     "slide_type": "subslide"
    }
   },
   "source": [
    "### Parameters\n",
    "\n",
    "```json\n",
    "{\n",
    "    \"autorename\": false,\n",
    "    \"path\": \"/Homework/math\"\n",
    "}\n",
    "```\n"
   ]
  },
  {
   "cell_type": "markdown",
   "id": "5fd0c963",
   "metadata": {
    "slideshow": {
     "slide_type": "subslide"
    }
   },
   "source": [
    "### Returns\n",
    "\n",
    "```json\n",
    "{\n",
    "    \"metadata\": {\n",
    "        \"id\": \"id:a4ayc_80_OEAAAAAAAAAXz\",\n",
    "        \"name\": \"math\",\n",
    "        \"path_display\": \"/Homework/math\",\n",
    "        \"path_lower\": \"/homework/math\",\n",
    "        \"property_groups\": [\n",
    "            {\n",
    "                \"fields\": [\n",
    "                    {\n",
    "                        \"name\": \"Security Policy\",\n",
    "                        \"value\": \"Confidential\"\n",
    "                    }\n",
    "                ],\n",
    "                \"template_id\": \"ptid:1a5n2i6d3OYEAAAAAAAAAYa\"\n",
    "            }\n",
    "        ],\n",
    "        \"sharing_info\": {\n",
    "            \"no_access\": false,\n",
    "            \"parent_shared_folder_id\": \"84528192421\",\n",
    "            \"read_only\": false,\n",
    "            \"traverse_only\": false\n",
    "        }\n",
    "    }\n",
    "}\n",
    "```"
   ]
  },
  {
   "cell_type": "markdown",
   "id": "39124693",
   "metadata": {
    "slideshow": {
     "slide_type": "slide"
    }
   },
   "source": [
    "## OAUTH Requests to Dropbox in JAVA\n",
    "\n",
    "In Java, OAuth requests are straightforward using a third party library, such as [ScribeJava](https://github.com/scribejava/scribejava)\n",
    "\n",
    "ScribeJava requires additional Maven dependencies in the project's **pom.xml**\n",
    "```xml\n",
    "<dependency>\n",
    "    <groupId>com.google.code.gson</groupId>\n",
    "    <artifactId>gson</artifactId>\n",
    "    <version>2.9.0</version>\n",
    "</dependency>\n",
    "<dependency>\n",
    "    <groupId>com.github.scribejava</groupId>\n",
    "    <artifactId>scribejava-apis</artifactId>\n",
    "    <version>8.3.1</version>\n",
    "</dependency>\n",
    "<dependency>\n",
    "    <groupId>org.pac4j</groupId>\n",
    "    <artifactId>pac4j-oauth</artifactId>\n",
    "    <version>5.4.3</version>\n",
    "</dependency>\n",
    "```"
   ]
  },
  {
   "cell_type": "markdown",
   "id": "53cfe494",
   "metadata": {
    "slideshow": {
     "slide_type": "notes"
    }
   },
   "source": [
    "Gson is JSON encoder/decoder library from Google. Will\n",
    "be used to encode operation arguments and decode the results.\n",
    "\n",
    "The other two dependencies are for ScribeJava."
   ]
  },
  {
   "cell_type": "markdown",
   "id": "7be2c724",
   "metadata": {
    "slideshow": {
     "slide_type": "slide"
    }
   },
   "source": [
    "## ScribeJava: Initialization...\n",
    "\n",
    "```java\n",
    "private static final String apiKey = \"INSERT YOURS\";\n",
    "private static final String apiSecret = \"INSERT YOURS\";\n",
    "private static final String accessTokenStr = \"INSERT YOURS\";\n",
    "\n",
    "var json = new Gson();\n",
    "var accessToken = new OAuth2AccessToken(accessTokenStr);\n",
    "var service = new ServiceBuilder(apiKey).apiSecret(apiSecret).build(DropboxApi20.INSTANCE);\n",
    "```"
   ]
  },
  {
   "cell_type": "markdown",
   "id": "b96747d4",
   "metadata": {
    "slideshow": {
     "slide_type": "slide"
    }
   },
   "source": [
    "## Dropbox CreateFolder arguments\n",
    "\n",
    "We simply represent arguments as Java records that we later encode into JSON.\n",
    "\n",
    "```java\n",
    "public record CreateFolderV2Args(String path, boolean autorename) {\n",
    "}\n",
    "```"
   ]
  },
  {
   "cell_type": "markdown",
   "id": "fbd1c598",
   "metadata": {
    "slideshow": {
     "slide_type": "slide"
    }
   },
   "source": [
    "## ScribeJava: Prepare Request \n",
    "\n",
    "```java\n",
    "private static final String CONTENT_TYPE_HDR = \"Content-Type\";\n",
    "private static final String JSON_CONTENT_TYPE = \"application/json; charset=utf-8\";\n",
    "\n",
    "\n",
    "var createFolder = new OAuthRequest(Verb.POST, CREATE_FOLDER_V2_URL);\n",
    "createFolder.addHeader(CONTENT_TYPE_HDR, JSON_CONTENT_TYPE);\n",
    "\n",
    "var json_args = json.toJson(new CreateFolderV2Args(directoryName, false);\n",
    "createFolder.setPayload( json_args ));\n",
    "\n",
    "service.signRequest(accessToken, createFolder);\n",
    "```"
   ]
  },
  {
   "cell_type": "markdown",
   "id": "2e6d210e",
   "metadata": {
    "slideshow": {
     "slide_type": "notes"
    }
   },
   "source": [
    "The *signRequest* call appends the HTTP header: `Authorization: Bearer ...` to the request\n",
    "described in Dropbox API. Without it the operation will fail."
   ]
  },
  {
   "cell_type": "markdown",
   "id": "14cab653",
   "metadata": {
    "slideshow": {
     "slide_type": "slide"
    }
   },
   "source": [
    "## ScribeJava: Issue Request \n",
    "\n",
    "\n",
    "```java\n",
    "private static final int HTTP_SUCCESS = 200;\n",
    "\n",
    "var response = service.execute(createFolder);\n",
    "if (response.getCode() != HTTP_SUCCESS) \n",
    "    throw new RuntimeException(String.format(\"Failed to create directory: %s, Status: %d, \\nReason: %s\\n\",\n",
    "                                             directoryName, response.getCode(), response.getBody()));\n",
    "```\n",
    "\n",
    "The response let us know what happened via the HTTP status code.<br>\n",
    "If the operation failed, the HTTP body explains why. "
   ]
  },
  {
   "cell_type": "markdown",
   "id": "e7d93a49",
   "metadata": {
    "slideshow": {
     "slide_type": "slide"
    }
   },
   "source": [
    "## ScribeJava: Decoding the result\n",
    "\n",
    "A quick way to get the result is to decode it from JSON into some kind of Java Map.\n",
    "```java\n",
    "var result = json.fromJson( r.getBody(), HashMap.class);\n",
    "System.out.println( result);\n",
    "```\n",
    "\n",
    "Often it more convenient to decode the result into some specific Java\n",
    "class that models the response exactly. \n",
    "\n",
    "```java\n",
    "var result = json.fromJson( r.getBody(), SomeClass.class);\n",
    "System.out.println( result);\n",
    "```\n",
    "\n",
    "Check the [sample code](https://preguica.github.io/sd2122/praticas2122/aula8/sd2122-aula8.zip) provided for this class\n",
    "for an example, using the [ListFolder](https://www.dropbox.com/developers/documentation/http/documentation#files-list_folder) endpoint.\n",
    "\n",
    "In some operations the result is not encoded as JSON, and we need the raw binary response, <br>for instance when downloading a file. In such cases, the result is available from the response as a *stream*.\n",
    "\n",
    "```java\n",
    "    var in = r.getStream();\n",
    "```"
   ]
  },
  {
   "cell_type": "markdown",
   "id": "b7a7bc44",
   "metadata": {},
   "source": [
    "# EXERCISES\n",
    "\n",
    "1. Try the sample code, after you created your Dropbox app details: api, secret and access token, as described above.\n",
    "2. Study the Dropbox API on how to create/update, read and delete files/folders.\n",
    "3. Create a new version of your project's Files service that stores its files in a Dropbox account.\n",
    "4. Try your new version of the Files service using the Tester, just do not forget to update .props file\n",
    "to use the new class."
   ]
  }
 ],
 "metadata": {
  "celltoolbar": "Slideshow",
  "kernelspec": {
   "display_name": "Python 3 (ipykernel)",
   "language": "python",
   "name": "python3"
  },
  "language_info": {
   "codemirror_mode": {
    "name": "ipython",
    "version": 3
   },
   "file_extension": ".py",
   "mimetype": "text/x-python",
   "name": "python",
   "nbconvert_exporter": "python",
   "pygments_lexer": "ipython3",
   "version": "3.10.4"
  }
 },
 "nbformat": 4,
 "nbformat_minor": 5
}
