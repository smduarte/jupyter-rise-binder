{
 "cells": [
  {
   "cell_type": "markdown",
   "id": "b3f0f5fd",
   "metadata": {
    "slideshow": {
     "slide_type": "slide"
    }
   },
   "source": [
    "# Distributed Systems\n",
    "## 2021/22\n",
    "\n",
    "Lab 9\n",
    "\n",
    "Nuno Preguiça, Sérgio Duarte, Dina Borrego, João Vilalonga"
   ]
  },
  {
   "cell_type": "markdown",
   "id": "05850652",
   "metadata": {
    "slideshow": {
     "slide_type": "slide"
    }
   },
   "source": [
    "# Goals\n",
    "\n",
    "In the end of this lab you should be able to:\n",
    "\n",
    "+ Understand what is HTTPS and SSL/TLS\n",
    "+ Know how to develop a REST server using https in Java\n",
    "+ Know how to develop a SOAP server using https in Java\n",
    "+ Know how to modify your REST clients to use https\n",
    "+ Know how to modify your SOAP clients to use https\n",
    "+ Know how to generate a keystore with server cryptographic keys\n",
    "+ Know how to generate a truststore with root certificates and the certificate for your server"
   ]
  },
  {
   "cell_type": "markdown",
   "id": "62c11c30",
   "metadata": {
    "slideshow": {
     "slide_type": "slide"
    }
   },
   "source": [
    "# TLS / SSL\n",
    "\n",
    "[TLS](https://en.wikipedia.org/wiki/Transport_Layer_Security) is a cryptographic protocol for securing communications over TCP. \n",
    "\n",
    "TLS provides:\n",
    "\n",
    "* Privacy - data streams are encrypted;\n",
    "* Integrity - data streams are protected against tampering;\n",
    "* Autentication - identity of servers and clients (optionally) is asserted."
   ]
  },
  {
   "cell_type": "markdown",
   "id": "ccf39e97",
   "metadata": {
    "slideshow": {
     "slide_type": "slide"
    }
   },
   "source": [
    "# HTTPS\n",
    "\n",
    "[HTTPS](https://en.wikipedia.org/wiki/HTTPS) is the protocol that results from the exchange of HTTP messages on top of TLS (secure) connections.\n",
    "\n",
    "TLS provides to HTTPS: Privacy, Integrity and Autentication."
   ]
  },
  {
   "cell_type": "markdown",
   "id": "0bf4f037",
   "metadata": {
    "slideshow": {
     "slide_type": "slide"
    }
   },
   "source": [
    "## HTTPS - Protocol overview\n",
    "\n",
    "<img src=\"https://preguica.github.io/sd2122/praticas2122/aula9/HTTPS.png\" width=\"80%\"></img>"
   ]
  },
  {
   "cell_type": "markdown",
   "id": "5b7b79df",
   "metadata": {
    "slideshow": {
     "slide_type": "notes"
    }
   },
   "source": [
    "\n",
    "The server has a (password protected) keystore holding its public key certificate and the corresponding private key.\n",
    "\n",
    "The client has a (password protected) truststore holding root CA certificates and assorted server certificates. These are trusted implicitly. Every other certificate is only trusted after validating the entire certificate chain.\n",
    "\n",
    "Upon client connection, the server presents its certificate.\n",
    "\n",
    "If the server certificate passes validation, the client challenges the server to prove its identity. To respond to the challenge successfully, the server needs to use its private key. By the end, of the process, client and server share a secret key that will be used to encrypt all traffic exchanged for the rest of the session."
   ]
  },
  {
   "cell_type": "markdown",
   "id": "d9f7451b",
   "metadata": {
    "slideshow": {
     "slide_type": "slide"
    }
   },
   "source": [
    "# REST Server and HTTPS\n",
    "\n",
    "\n",
    "```java\n",
    "static final int PORT = 8080;\n",
    "static final String SERVER_URI_FMT = \"https://%s:%s/rest\";\n",
    "\n",
    "var config = new ResourceConfig();\n",
    "config.register(UsersResource.class);\n",
    "\n",
    "var ip = InetAddress.getLocalHost().getHostAddress();\n",
    "var serverURI = URI.create(String.format(SERVER_URI_FMT, ip, PORT));\n",
    "JdkHttpServerFactory.createHttpServer( serverURI, config, SSLContext.getDefault());\n",
    "```\n",
    "\n",
    "Two changes are needed:\n",
    "+ The server URI needs to be ***https***.\n",
    "+ The server needs to be created with a **TLS/SSL context**.\n"
   ]
  },
  {
   "cell_type": "markdown",
   "id": "4f310dc5",
   "metadata": {
    "slideshow": {
     "slide_type": "slide"
    }
   },
   "source": [
    "# SOAP Server and HTTPS\n",
    "\n",
    "```java\n",
    "static final int PORT = 8080;\n",
    "\n",
    "var ip = InetAddress.getLocalHost().getHostAddress();\t\t\n",
    "\n",
    "var server = HttpsServer.create(new InetSocketAddress(ip, PORT), 0);\n",
    "server.setHttpsConfigurator(new HttpsConfigurator(SSLContext.getDefault()));\n",
    "\n",
    "var endpoint = Endpoint.create(new SoapUsersWebService());\t\t\n",
    "endpoint.publish(server.createContext(\"/soap\"));\n",
    "\n",
    "server.start();\n",
    "```\n",
    "\n",
    "The SOAP endpoint needs to be created and then published to \n",
    "a HTTPS server.\n",
    "\n",
    "The server needs to be configured to use a TLS/SSL context."
   ]
  },
  {
   "cell_type": "markdown",
   "id": "9182be26",
   "metadata": {
    "slideshow": {
     "slide_type": "slide"
    }
   },
   "source": [
    "# REST/SOAP Clients and HTTPS\n",
    "\n",
    "Normally, nothing is required to use **https** client-side.\n",
    "\n",
    "However, when servers use **insecure** self-signed certificates,\n",
    "the default validation procedure will fail. \n",
    "\n",
    "To override the default validation procedure (and risk it),\n",
    "the minimal requirement is to set the global [HostnameVerifier](https://docs.oracle.com/javase/7/docs/api/javax/net/ssl/HostnameVerifier.html),\n",
    "like so:\n",
    "\n",
    "```java\n",
    "HttpsURLConnection.setDefaultHostnameVerifier(new InsecureHostnameVerifier());\n",
    "```\n",
    "Used **once** and **before** the first request.\n",
    "\n",
    "\n",
    "```java\n",
    "public class InsecureHostnameVerifier implements HostnameVerifier {\n",
    "    public boolean verify(String hostname, SSLSession session) {\n",
    "        return true;  \n",
    "    }\n",
    "}\n",
    "```"
   ]
  },
  {
   "cell_type": "markdown",
   "id": "452fb382",
   "metadata": {
    "slideshow": {
     "slide_type": "slide"
    }
   },
   "source": [
    "## HTTPS Client Execution\n",
    "\n",
    "Normally, clients are invoked as usual...\n",
    "\n",
    "However, a **truststore** is needed when clients call insecure servers, which have self-signed certificates.\n",
    "\n",
    "```\n",
    "java -Djavax.net.ssl.trustStore=<truststore-filename> \n",
    "        -Djavax.net.ssl.trustStorePassword=<truststore-password> -cp ... <classname>\n",
    "```"
   ]
  },
  {
   "cell_type": "markdown",
   "id": "c1defd3f",
   "metadata": {
    "slideshow": {
     "slide_type": "slide"
    }
   },
   "source": [
    "## HTTPS REST/SOAP Server Execution\n",
    "\n",
    "Servers require the location of the **keystore** file used to populate the\n",
    "TLS/SSL context. \n",
    "\n",
    "The keystore is password protected, so the password to open the keystore is also needed.\n",
    "\n",
    "```\n",
    "java -Djavax.net.ssl.keyStore=<keystore-filename> \n",
    "        -Djavax.net.ssl.keyStorePassword=<keystore-password> -cp ... <classname>\n",
    "```\n",
    "\n",
    "For servers that are also clients, both the **keystore** and **truststore** are needed.\n",
    "\n",
    "```\n",
    "java -Djavax.net.ssl.keyStore=<keystore-filename> \n",
    "        -Djavax.net.ssl.keyStorePassword=<keystore-password> \n",
    "        -Djavax.net.ssl.trustStore=<truststore-filename> \n",
    "        -Djavax.net.ssl.trustStorePassword=<truststore-password> -cp ... <classname>\n",
    "```\n"
   ]
  },
  {
   "cell_type": "markdown",
   "id": "bcfb909a",
   "metadata": {
    "slideshow": {
     "slide_type": "slide"
    }
   },
   "source": [
    "# Keytool\n",
    "\n",
    "Java comes with **keytool** - a CLI utility to manage keystores and truststores.\n",
    "\n",
    "Can be used to generate **public/private key pairs** and add to **keystores**, <br> \n",
    "export public key **certificates**, and import them into **truststores**.\n"
   ]
  },
  {
   "cell_type": "markdown",
   "id": "11c3c7da",
   "metadata": {
    "slideshow": {
     "slide_type": "slide"
    }
   },
   "source": [
    "## Private Key generation.\n",
    "\n",
    "To create a public/private key pair use:\n",
    "\n",
    "```\n",
    " keytool -genkey -alias <server-name> -keyalg RSA -validity 365 -keystore <keystore-filename> -storetype pkcs12\n",
    "```\n",
    "\n",
    "This generates a new key pair for a server: `<server-name>`, which is stored in keystore: `keystore-filename`\n",
    "\n",
    "The program will ask for a **password**, either to create the keystore or to open it for modification."
   ]
  },
  {
   "cell_type": "markdown",
   "id": "01c2957b",
   "metadata": {
    "slideshow": {
     "slide_type": "slide"
    }
   },
   "source": [
    "## Self-signed Server Certificate\n",
    "\n",
    "To export a self-signed certificate for a server `<server-name>`, whose **public/private key pair** is already\n",
    "present in a **keystore**, use:\n",
    "\n",
    "```\n",
    "keytool -exportcert -alias <server-name> -keystore <keystore-filename> -file <file-certificate>\n",
    "```\n",
    "\n",
    "Again, the command will prompt for the password of the keystore to be able to open it."
   ]
  },
  {
   "cell_type": "markdown",
   "id": "e93462cd",
   "metadata": {
    "slideshow": {
     "slide_type": "slide"
    }
   },
   "source": [
    "## CACERTS\n",
    "\n",
    "The default Java truststore `cacerts` contains just a list of **root CA certificates**.\n",
    "\n",
    "These are certificates issued by \"Certification Authorities\" that Java trusts implicitly.\n",
    "\n",
    "They are stored in a file named `cacerts` included in every JDK and JRE distribution.\n",
    "\n",
    "The default `cacerts `password is `changeit`."
   ]
  },
  {
   "cell_type": "markdown",
   "id": "a87f149c",
   "metadata": {
    "slideshow": {
     "slide_type": "slide"
    }
   },
   "source": [
    "## Truststore\n",
    "\n",
    "A **truststore** is a collection of trusted certificates. \n",
    "\n",
    "To accept **self-signed certificates**, add them to a truststore, like so.\n",
    "```\n",
    "keytool -importcert -file <file-certificate> -alias <server-name> -keystore <truststore-filename>\n",
    "```\n",
    "Again, the command will prompt for the password to be able to open the truststore.\n",
    "\n",
    "Note that for `keytool`, a truststore is just a special kind of keystore, that stores\n",
    "*certified* public keys (certificates)."
   ]
  },
  {
   "cell_type": "markdown",
   "id": "fd0b5862",
   "metadata": {
    "slideshow": {
     "slide_type": "slide"
    }
   },
   "source": [
    "## Client Truststore\n",
    "\n",
    "If a client needs to access both insecure servers and secure services, <br>\n",
    "such as Dropbox ou Google drive, it will need to use a modified\n",
    "`cacerts` truststore.\n",
    "\n",
    "For that, make a copy of `cacerts` and add the self-signed certificates\n",
    "using `keytool`, as describeb above."
   ]
  },
  {
   "cell_type": "markdown",
   "id": "fb8d4a01",
   "metadata": {
    "slideshow": {
     "slide_type": "slide"
    }
   },
   "source": [
    "# EXERCISES\n",
    "\n",
    "1. Try the sample code.\n",
    "2. Delete the provided keystore and truststore files. Create new ones using `keytool`.\n",
    "3. (Optional) If using Linux...\n",
    " + Study the provided `gen_certificates.sh` script. \n",
    " + Extend it to automate the generation of keystores and truststores for your servers.\n",
    "4. Modify the other clients and servers of your project to use HTTPS."
   ]
  }
 ],
 "metadata": {
  "celltoolbar": "Slideshow",
  "kernelspec": {
   "display_name": "Python 3 (ipykernel)",
   "language": "python",
   "name": "python3"
  },
  "language_info": {
   "codemirror_mode": {
    "name": "ipython",
    "version": 3
   },
   "file_extension": ".py",
   "mimetype": "text/x-python",
   "name": "python",
   "nbconvert_exporter": "python",
   "pygments_lexer": "ipython3",
   "version": "3.10.4"
  }
 },
 "nbformat": 4,
 "nbformat_minor": 5
}
