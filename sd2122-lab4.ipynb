{
 "cells": [
  {
   "cell_type": "markdown",
   "metadata": {
    "slideshow": {
     "slide_type": "skip"
    }
   },
   "source": [
    "<style>\n",
    ".jp-RenderedHTMLCommon pre {\n",
    "        background-color: #FFFFF0FF;\n",
    "    }\n",
    "</style>"
   ]
  },
  {
   "cell_type": "markdown",
   "metadata": {
    "slideshow": {
     "slide_type": "slide"
    }
   },
   "source": [
    "# Distributed Systems\n",
    "## 2021/22\n",
    "\n",
    "Lab 3\n",
    "\n",
    "Nuno Preguiça, Sérgio Duarte, Dina Borrego, João Vilalonga"
   ]
  },
  {
   "cell_type": "markdown",
   "metadata": {
    "slideshow": {
     "slide_type": "slide"
    }
   },
   "source": [
    "# Goals\n",
    "\n",
    "In the end of this lab you should be able to:\n",
    "\n",
    "+ Know how to deal with errors on REST clients;\n",
    "+ Know how to track errors on REST servers;\n",
    "+ Know how to test your \n"
   ]
  },
  {
   "cell_type": "markdown",
   "metadata": {
    "slideshow": {
     "slide_type": "slide"
    }
   },
   "source": [
    "## REST - Client Errors"
   ]
  },
  {
   "cell_type": "markdown",
   "metadata": {
    "slideshow": {
     "slide_type": "slide"
    }
   },
   "source": [
    "## Causes\n",
    "\n",
    "A REST request might fail for several reasons:\n",
    "\n",
    "+ The server is not running;\n",
    "+ The server is slow;\n",
    "+ A TCP connection was dropped;\n",
    "+ The network failed;\n",
    "+ There was a network anomaly (e.g., routing)\n"
   ]
  },
  {
   "cell_type": "markdown",
   "metadata": {
    "slideshow": {
     "slide_type": "slide"
    }
   },
   "source": [
    "## Transient failures\n",
    "\n",
    "Temporary failures can be ***masked*** by issuing\n",
    "the request multiple times.\n",
    "\n",
    "Usually, the client quits after a few retries to\n",
    "avoid blocking the application forever,<br>for example, in\n",
    "case the server has crashed."
   ]
  },
  {
   "cell_type": "markdown",
   "metadata": {
    "slideshow": {
     "slide_type": "notes"
    }
   },
   "source": [
    "Note:\n",
    "\n",
    "Transient failures are temporary issues that resolve themselves shortly."
   ]
  },
  {
   "cell_type": "markdown",
   "metadata": {
    "slideshow": {
     "slide_type": "slide"
    }
   },
   "source": [
    "## ProcessingException\n",
    "\n",
    "Jersey (JAX-RS) exposes request failures to clients in the form of a Java exception: [javax.ws.rs.ProcessingException](https://docs.oracle.com/javaee/7/api/javax/ws/rs/ProcessingException.html)\n",
    "\n",
    "A **try{ } catch{}** block can be used to retry the request automatically after a small amount of time.\n"
   ]
  },
  {
   "cell_type": "markdown",
   "metadata": {
    "slideshow": {
     "slide_type": "notes"
    }
   },
   "source": [
    "Note: Waiting a bit before retrying the request prevents a too agressive client behavior and allows some time for the transient error condition disappear."
   ]
  },
  {
   "cell_type": "markdown",
   "metadata": {
    "slideshow": {
     "slide_type": "slide"
    }
   },
   "source": [
    "### Example - CreateUser (1)\n",
    "\n",
    "Setting the client timeout values...\n",
    "\n",
    "```java\n",
    "protected static final int READ_TIMEOUT = 5000;\n",
    "protected static final int CONNECT_TIMEOUT = 5000;\n",
    "\n",
    "ClientConfig config = new ClientConfig();\n",
    "\n",
    "config.property(ClientProperties.READ_TIMEOUT, READ_TIMEOUT);\n",
    "config.property( ClientProperties.CONNECT_TIMEOUT, CONNECT_TIMEOUT);\n",
    "\t\t\n",
    "Client client = ClientBuilder.newClient(config);\n",
    "\n",
    "```"
   ]
  },
  {
   "cell_type": "code",
   "execution_count": null,
   "metadata": {
    "slideshow": {
     "slide_type": "notes"
    }
   },
   "outputs": [],
   "source": [
    "In the future, other changes to client behavior will be done the someway."
   ]
  },
  {
   "cell_type": "markdown",
   "metadata": {
    "slideshow": {
     "slide_type": "slide"
    }
   },
   "source": [
    "### Example - CreateUser (2)\n",
    "```java\n",
    "protected static final int MAX_RETRIES = 10;\n",
    "protected static final int RETRY_SLEEP = 1000;\n",
    "\n",
    "@Override\n",
    "public String createUser(User user) {\n",
    "\n",
    "\tWebTarget target = client.target( serverURI ).path( RestUsers.PATH );\n",
    "\tfor (int i = 0; i < MAX_RETRIES; i++)\n",
    "\t\ttry {\n",
    "\t\t\tResponse r = target.request()\n",
    "\t\t\t\t.accept(MediaType.APPLICATION_JSON)\n",
    "\t\t\t\t.post(Entity.entity(user, MediaType.APPLICATION_JSON));\n",
    "\n",
    "            if( r.getStatus() == Status.OK.getStatusCode() && r.hasEntity() )\n",
    "                // SUCCESS\n",
    "                return r.readEntity(String.class);\n",
    "            else {\n",
    "                System.out.println(\"Error, HTTP error status: \" + r.getStatus() );\n",
    "                break;\n",
    "            }\n",
    "\t\t} catch (ProcessingException x) {\n",
    "            sleep( RETRY_SLEEP );\n",
    "        }\n",
    "\treturn null; // Report failure\n",
    "}\n",
    "```"
   ]
  },
  {
   "cell_type": "markdown",
   "metadata": {
    "slideshow": {
     "slide_type": "slide"
    }
   },
   "source": [
    "### Can we do better?\n",
    "\n",
    "The sample code above needs to be **repeated for all operations** of all services!\n",
    "\n",
    " + Doable but **error prone** because it invites a lot of ***cut & paste***...\n",
    "\n",
    "Can we make it more general?"
   ]
  },
  {
   "cell_type": "markdown",
   "metadata": {
    "slideshow": {
     "slide_type": "fragment"
    }
   },
   "source": [
    "Of course!!!"
   ]
  },
  {
   "cell_type": "markdown",
   "metadata": {
    "slideshow": {
     "slide_type": "slide"
    }
   },
   "source": [
    "### Step 1 - Implement the request as a private method\n",
    "\n",
    "```java \n",
    "\n",
    "private String clt_createUser(User user) {\n",
    "    Response r = target.request()\n",
    "                    .accept(MediaType.APPLICATION_JSON)\n",
    "                    .post(Entity.entity(user, MediaType.APPLICATION_JSON));\n",
    "\n",
    "    if( r.getStatus() == Status.OK.getStatusCode() && r.hasEntity() )\n",
    "        return r.readEntity(String.class);\n",
    "    else\n",
    "        return null;\n",
    "}\n",
    "```"
   ]
  },
  {
   "cell_type": "markdown",
   "metadata": {
    "slideshow": {
     "slide_type": "slide"
    }
   },
   "source": [
    "### Step 2 - Implement the retry behavior as a generic operation\n",
    "\n",
    "```java\n",
    "protected <T> T reTry(java.util.function.Supplier<T> func) {\n",
    "    for (int i = 0; i < MAX_RETRIES; i++)\n",
    "        try {\n",
    "            return func.get(); // Success\n",
    "        } catch (ProcessingException x) {\n",
    "\t\t\tsleep(RETRY_SLEEP);\n",
    "\t\t} catch (Exception x) {\n",
    "            // Handle other errors\n",
    "            break;\n",
    "        }   \n",
    "    return null; // Failure\n",
    "}\n",
    "```"
   ]
  },
  {
   "cell_type": "markdown",
   "metadata": {
    "slideshow": {
     "slide_type": "notes"
    }
   },
   "source": [
    "Note:\n",
    "    \n",
    "This method can be part of super class inherited by all service clients."
   ]
  },
  {
   "cell_type": "markdown",
   "metadata": {
    "slideshow": {
     "slide_type": "slide"
    }
   },
   "source": [
    "### Step 3 - Implement the requests with retry behavior\n",
    "\n",
    "```java\n",
    "public String createUser(User user) {\n",
    "    return reTry( () -> clt_createUser( user ));\n",
    "}\n",
    "\n",
    "public User getUser(User user, String password) {\n",
    "    return reTry( () -> clt_getUser( user, password ));\n",
    "}\n",
    "\n",
    "```"
   ]
  },
  {
   "cell_type": "markdown",
   "metadata": {
    "slideshow": {
     "slide_type": "notes"
    }
   },
   "source": [
    "We are making use of [Java Lambda Expressions](https://docs.oracle.com/javase/tutorial/java/javaOO/lambdaexpressions.html)...\n",
    "\n",
    "`() -> clt_createUser( user )` is a function that returns a result, making it compatible with the functional interface [Supplier&lt;T&gt;](https://docs.oracle.com/javase/8/docs/api/java/util/function/Supplier.html) used as the parameter of the `reTry` generic method.\n",
    "\n"
   ]
  },
  {
   "cell_type": "markdown",
   "metadata": {
    "slideshow": {
     "slide_type": "slide"
    }
   },
   "source": [
    "# Tracking REST server-side errors\n"
   ]
  },
  {
   "cell_type": "markdown",
   "metadata": {
    "slideshow": {
     "slide_type": "slide"
    }
   },
   "source": [
    "### Unhandled server-side exceptions\n",
    "\n",
    "Jersey reports to clients any unhandled exception thrown in the scope of \n",
    "an implementation method of a service as `500 Internal Error`.\n",
    "\n",
    "The default Jersey runtime behavior is to suppress the actual exception details, including type or stack trace,\n",
    "making it very difficult to diagnose the source of the problem."
   ]
  },
  {
   "cell_type": "markdown",
   "metadata": {
    "slideshow": {
     "slide_type": "slide"
    }
   },
   "source": [
    "### CustomExceptionMappers\n",
    "\n",
    "Jersey provides a way to customize how server-side exceptions are reported before a response is sent to the client.\n",
    "\n",
    "For instance, the class below is a custom exception mapper that will allow the stack trace\n",
    "of an exception to show up on server logs.\n",
    "\n",
    "```java\n",
    "public class GenericExceptionMapper implements ExceptionMapper<Throwable> {\n",
    "\t@Override\n",
    "\tpublic Response toResponse(Throwable ex) {\n",
    "\n",
    "\t\tif (ex instanceof WebApplicationException wex) {\n",
    "\t\t\tResponse r = wex.getResponse();\t\t\t\n",
    "\t\t\tif( r.getStatus() == Status.INTERNAL_SERVER_ERROR.getStatusCode())\n",
    "\t\t\t\tex.printStackTrace();\n",
    "\t\t\treturn r;\n",
    "\t\t}\n",
    "\t\tex.printStackTrace();\n",
    "\t\treturn Response.status(Status.INTERNAL_SERVER_ERROR)\n",
    "            .entity(ex.getMessage()).type(MediaType.APPLICATION_JSON).build();\n",
    "\t}\n",
    "}\n",
    "```"
   ]
  },
  {
   "cell_type": "markdown",
   "metadata": {
    "slideshow": {
     "slide_type": "notes"
    }
   },
   "source": [
    "The code will still report the error to the client as `500 Internal Error`.\n",
    "\n",
    "However, it also prints the exception stack trace to the server output, making it easier to find \n",
    "which class, method and line of code caused the problem."
   ]
  },
  {
   "cell_type": "markdown",
   "metadata": {
    "slideshow": {
     "slide_type": "slide"
    }
   },
   "source": [
    "### Registering CustomExceptionMappers\n",
    "\n",
    "To use a custom exception mapper, we have register it in addition to the services exposed\n",
    "by the server, like so:\n",
    "\n",
    "```java\n",
    "        ResourceConfig config = new ResourceConfig();\n",
    "\t\tconfig.register(UsersResource.class);\n",
    "\t\tconfig.register(GenericExceptionMapper.class);\n",
    "\n",
    "        String ip = InetAddress.getLocalHost().getHostAddress();\n",
    "\t\tString serverURI = String.format(SERVER_URI_FMT, ip, PORT);\n",
    "\t\tJdkHttpServerFactory.createHttpServer( URI.create(serverURI), config);\n",
    "\t\n",
    "```"
   ]
  },
  {
   "cell_type": "markdown",
   "metadata": {
    "slideshow": {
     "slide_type": "slide"
    }
   },
   "source": [
    "# Concurrency Issues in the Server"
   ]
  },
  {
   "cell_type": "markdown",
   "metadata": {
    "slideshow": {
     "slide_type": "slide"
    }
   },
   "source": [
    "### Multi-threaded services\n",
    "\n",
    "For performance reasons, servers are rarely single-threaded.\n",
    "\n",
    "Concurrent client requests are usually handled in separate threads.\n",
    "\n",
    "If two or more threads access **shared state** without any form of \n",
    "concurrency control,<br>the behavior of the application can be anomalous, unpredicatable or faulty."
   ]
  },
  {
   "cell_type": "markdown",
   "metadata": {
    "slideshow": {
     "slide_type": "slide"
    }
   },
   "source": [
    "#### Example anomaly\n",
    "\n",
    "This code can lead to missed updates...\n",
    "\n",
    "```java\n",
    "private final Map<String, Integer> counters = new HashMap<>();\n",
    "\n",
    "void updateCounter(String counterId, int increment) {\n",
    "    Integer currentValue = counters.get( counterId );\n",
    "    if( currentValue == null )\n",
    "        counters.put( couterId, increment ) ;\n",
    "    else\n",
    "        counters.put( counterId, currentValue + increment);\n",
    "}\n",
    "```\n",
    "\n"
   ]
  },
  {
   "cell_type": "markdown",
   "metadata": {
    "slideshow": {
     "slide_type": "notes"
    }
   },
   "source": [
    "For instance, `currentValue` can be evaluated to `null` by multiple threads, or \n",
    "they can retrieve the same previous value and apply their increment to that value.\n",
    "On both occurrences, some increments will be lost.\n",
    "\n",
    "Moreover, the [HashMap](https://docs.oracle.com/en/java/javase/17/docs/api/java.base/java/util/HashMap.html) is documented as not being thread-safe. This is common for most of the data structures in the [java.util]([HashMap](https://docs.oracle.com/en/java/javase/17/docs/api/java.base/java/util/package-summary.html)."
   ]
  },
  {
   "cell_type": "markdown",
   "metadata": {
    "slideshow": {
     "slide_type": "slide"
    }
   },
   "source": [
    "### Java Concurrency Control\n",
    "\n",
    "Java provides some mechanisms for concurrency control...\n",
    "\n",
    "+ Thread-safe data-strutures\n",
    "+ Synchronization"
   ]
  },
  {
   "cell_type": "markdown",
   "metadata": {
    "slideshow": {
     "slide_type": "slide"
    }
   },
   "source": [
    "### Single-object concurrency control\n",
    "\n",
    "Concurrent requests involving single objects can sometimes be handled\n",
    "by leveraging thread-safe data-structures, such as:\n",
    "\n",
    "[ConcurrentHashMap](https://docs.oracle.com/en/java/javase/17/docs/api/java.base/java/util/concurrent/ConcurrentHashMap.html)\n",
    "[CopyOnWriteArrayList](https://docs.oracle.com/en/java/javase/17/docs/api/java.base/java/util/concurrent/CopyOnWriteArrayList.html)\n",
    "\n",
    "For single variables the need atomic updates, such as increments:\n",
    "\n",
    "[AtomicInteger](https://docs.oracle.com/en/java/javase/17/docs/api/java.base/java/util/concurrent/atomic/AtomicInteger.html)\n",
    "[AtomicLong](https://docs.oracle.com/en/java/javase/17/docs/api/java.base/java/util/concurrent/atomic/AtomicLong.html)\n",
    "[AtomicReference](https://docs.oracle.com/en/java/javase/17/docs/api/java.base/java/util/concurrent/atomic/AtomicReference.html)\n",
    "\n"
   ]
  },
  {
   "cell_type": "markdown",
   "metadata": {
    "slideshow": {
     "slide_type": "notes"
    }
   },
   "source": [
    "Check package [java.util.concurrent]((https://docs.oracle.com/en/java/javase/17/docs/api/java.base/java/util/concurrent/package-summary.html) for a variety of classes that replace common data-structures found in [java.util]([HashMap](https://docs.oracle.com/en/java/javase/17/docs/api/java.base/java/util/package-summary.html) with thread-safe counterparts.\n",
    "\n",
    "Performance of thread-safe data-structures is often fine-tuned for specific scenarios. Read the documentation. "
   ]
  },
  {
   "cell_type": "markdown",
   "metadata": {
    "slideshow": {
     "slide_type": "slide"
    }
   },
   "source": [
    "### Multi-object concurrency control\n",
    "\n",
    "In Java, synchronization is the simplest way to handle concurrency issues\n",
    "that involve inter-related objects, <br> as well as single-objects.\n",
    "\n",
    "The `synchronized` keyword allows a ***block of code*** or a ***method*** to execute\n",
    "sequentially - a thread at a time.\n",
    "\n",
    "```java\n",
    "synchronized(obj) {\n",
    "     // sequential code\n",
    "}\n",
    "```\n",
    "```java\n",
    "synchronized public void createUser( User user) {\n",
    "    // sequential code\n",
    "}\n",
    "```\n",
    "```java\n",
    "public void createUser( User user) {\n",
    "    synchronized(this){\n",
    "    // sequential code\n",
    "    }\n",
    "}\n",
    "```"
   ]
  },
  {
   "cell_type": "markdown",
   "metadata": {
    "slideshow": {
     "slide_type": "notes"
    }
   },
   "source": [
    "Java native [synchronization](https://docs.oracle.com/javase/tutorial/essential/concurrency/sync.html) requires an object to act as a *monitor*. \n",
    "\n",
    "For synchronized instance (object) methods, ***this*** is the implicit object used as the monitor. For synchronized class methods (static), it is the ***class***. This means that synchronized methods of the same object (or class) are all mutually exclusive and run sequentially."
   ]
  },
  {
   "cell_type": "markdown",
   "metadata": {
    "slideshow": {
     "slide_type": "slide"
    }
   },
   "source": [
    "### Impact on performance\n",
    "\n",
    "Concurrency control has a negative impact on performance.\n",
    "\n",
    "For instance, using synchronization to prevent *write-write* and *read-write* conflicts,<br>\n",
    "will also lead to read-only operations to run sequentially, when they usually do not interfere.\n",
    "\n",
    "For finer concurrency control, Java also provides higher-level constructs, such as [Locks](https://docs.oracle.com/en/java/javase/17/docs/api/java.base/java/util/concurrent/locks/package-summary.html)."
   ]
  },
  {
   "cell_type": "markdown",
   "metadata": {
    "slideshow": {
     "slide_type": "slide"
    }
   },
   "source": [
    "# Exercises\n",
    "\n",
    "1. Test the retry mechanism to mask transient failures\n",
    "2. Test the mechanism for exposing server-side errors"
   ]
  },
  {
   "cell_type": "markdown",
   "metadata": {
    "slideshow": {
     "slide_type": "notes"
    }
   },
   "source": [
    "## Test masking transient failures\n",
    "\n",
    "\n",
    "1. Download this [lab's project](http://preguica.github.io/sd2122/code/sd2122-lab3.zip);\n",
    "2. Build the Docker image, using the usual maven command;\n",
    "\n",
    "  `mvn clean compile assemby:single docker:build`\n",
    "3. Launch the server;\n",
    "\n",
    " `docker network create -d bridge sdnet` (if necessary)\n",
    " \n",
    " `docker run --rm -h users-1 --name users-1 --network sdnet -p 8080:8080 sd2122-aula3-xxxxx-yyyyy`\n",
    " \n",
    "4. Create the client container:\n",
    "\n",
    "    `docker run -it --network sdnet sd2122-aula3-xxxxx-yyyyy /bin/bash`\n",
    "\n",
    "5. Create a new user.\n",
    "\n",
    "    In the client container shell, type:\n",
    "\n",
    "    `java -cp /home/sd/sd2122.jar sd2122.aula3.clients.CreateUserClient http://users-1:8080/rest nmp \"Nuno Preguica\" nmp@nova.unl.pt 12345`\n",
    "    \n",
    "    Confirm the request succeeded and returned: `nmp`\n",
    "    \n",
    "6. Stop the server.\n",
    "\n",
    "    CTRL-C or execute in another terminal:\n",
    "    \n",
    "    `docker rm -f users-1`\n",
    "    \n",
    "7. Execute step 5 again.\n",
    "\n",
    "   This time, since the server is not running, the client should output:\n",
    "   \n",
    "   `FINE: ProcessingException: java.net.UnknownHostException: users-1`\n",
    "   \n",
    "8. Launch the server again (step 3)\n",
    "\n",
    "   The client should finish and return: `nmp`\n",
    "   "
   ]
  },
  {
   "cell_type": "markdown",
   "metadata": {
    "slideshow": {
     "slide_type": "notes"
    }
   },
   "source": [
    "## Test exposing server-side errors\n",
    "\n",
    "\n",
    "1. Download this [lab's project](http://preguica.github.io/sd2122/code/sd2122-lab3.zip) (if necessary);\n",
    "\n",
    "2. In the main method of the `UsersServer.java` file, uncomment the following line:\n",
    "\n",
    "   `config.register(GenericExceptionMapper.class);`\n",
    "\n",
    "3. Build the Docker image, using the usual maven command;\n",
    "\n",
    "  `mvn clean compile assemby:single docker:build`\n",
    "  \n",
    "4. Launch the server;\n",
    " \n",
    " `docker network create -d bridge sdnet` (if necessary)\n",
    " \n",
    " `docker run --rm -h users-1 --name users-1 --network sdnet -p 8080:8080 sd2122-aula3-xxxxx-yyyyy`\n",
    " \n",
    "5. Create the client container:\n",
    "\n",
    "    `docker run -it --network sdnet sd2122-aula3-xxxxx-yyyyy /bin/bash`\n",
    "       \n",
    "6. Try the SearchUsersClient:\n",
    "    \n",
    "    In the client container shell, type:\n",
    "\n",
    "   `java -cp /home/sd/sd2122.jar sd2122.aula3.clients.SearchUsersClient http://users-1:8080/rest nmp`\n",
    "   \n",
    "   The client should report:\n",
    "   \n",
    "   `Error, HTTP error status: 500`\n",
    "   \n",
    "   In the server, the top line of stack trace shown should be:\n",
    "   \n",
    "   `at sd2122.aula3.server.resources.UsersResource.searchUsers(UsersResource.java:96)`\n",
    "\n",
    "   This is the *method*, *class file* and *line number* where the uncaught exception was thrown.\n",
    "\n",
    "7. Undo Step 2 (by commenting the line); \n",
    "\n",
    "8. Repeat Steps 3, 4, 5 and 6.\n",
    "\n",
    "   This time the output of the server will only show that the request reached the server. It will not\n",
    "   show that an exception was thrown while processing the request. \n",
    "   "
   ]
  }
 ],
 "metadata": {
  "celltoolbar": "Slideshow",
  "kernelspec": {
   "display_name": "Python 3 (ipykernel)",
   "language": "python",
   "name": "python3"
  },
  "language_info": {
   "codemirror_mode": {
    "name": "ipython",
    "version": 3
   },
   "file_extension": ".py",
   "mimetype": "text/x-python",
   "name": "python",
   "nbconvert_exporter": "python",
   "pygments_lexer": "ipython3",
   "version": "3.9.10"
  }
 },
 "nbformat": 4,
 "nbformat_minor": 4
}
