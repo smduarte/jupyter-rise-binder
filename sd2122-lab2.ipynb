{
 "cells": [
  {
   "cell_type": "markdown",
   "metadata": {
    "slideshow": {
     "slide_type": "slide"
    }
   },
   "source": [
    "# Distributed Systems\n",
    "## 2021/22\n",
    "\n",
    "Lab 2\n",
    "\n",
    "Nuno Preguiça, Sérgio Duarte, Dina Borrego, João Vilalonga"
   ]
  },
  {
   "cell_type": "markdown",
   "metadata": {
    "slideshow": {
     "slide_type": "slide"
    }
   },
   "source": [
    "# Goals\n",
    "\n",
    "In the end of this lab you should be able to:\n",
    "+ Understand what a WebService REST is\n",
    "+ Know how to develop a WS REST and Server in Java (using JAX-RS)\n",
    "+ Know how to develop a REST Client in Java (using JAX-RX)\n",
    "+ Use Docker to test your service using your clients"
   ]
  },
  {
   "cell_type": "markdown",
   "metadata": {
    "slideshow": {
     "slide_type": "slide"
    }
   },
   "source": [
    "# Understanding REST WebServices"
   ]
  },
  {
   "cell_type": "markdown",
   "metadata": {
    "slideshow": {
     "slide_type": "slide"
    }
   },
   "source": [
    "## REST : <u>RE</u>presentational <u>S</u>tate <u>T</u>ransfer \n",
    "\n",
    "Architectural pattern to access information\n",
    "\n",
    "**Fundamental approach:** an application is perceived as a collection of resources.<br><br>\n",
    "\n",
    "\n",
    "Key implications:\n",
    "\n",
    "+ A resource is identified by a URI/URL;\n",
    "+ The URL returns a document with a representation of the resource;\n",
    "+ A URL can refer to a collection of resources;\n",
    "+ It is possible to refer to other resources (from a resource) using links.\n"
   ]
  },
  {
   "cell_type": "markdown",
   "metadata": {
    "slideshow": {
     "slide_type": "slide"
    }
   },
   "source": [
    "## REST : <u>RE</u>presentational <u>S</u>tate <u>T</u>ransfer \n",
    "\n",
    "Consider an application that is used to manage contact cards.\n",
    "\n",
    "+ Each contact card is a **resource** and has an **URL**;\n",
    "+ The card's **URL** will return its *representation*;\n",
    " * ex: a textual representation of the fields of the card: name of the person, phone, e-mail, postal address – but it could also be a binary representation.\n",
    "+ An URL can point to the whole collection of existing contact cards.\n",
    "+ A contact card can refer to another card, by including the URL of ther other card;\n",
    " * ex: for instance to refer to the spouse of that person.\n"
   ]
  },
  {
   "cell_type": "markdown",
   "metadata": {
    "slideshow": {
     "slide_type": "slide"
    }
   },
   "source": [
    "## REST Protocol\n",
    "\n",
    "A client-server protocol that is **stateless**.<br>\n",
    "    - each request contains all the information that is necessary to process the request.\n",
    "\n",
    "Implications:\n",
    "+ The server does not need to keep track of relations among different requests;\n",
    "+ Simple interaction patterns in systems using REST simple;\n",
    "+ Allows transparent caching."
   ]
  },
  {
   "cell_type": "markdown",
   "metadata": {
    "slideshow": {
     "slide_type": "slide"
    }
   },
   "source": [
    "## REST Protocol\n",
    "\n",
    "The REST interface is **uniform**: all resources are accessed by a set of well-defined **HTTP** operations:\n",
    "\n",
    "+ **POST**: Creates a new resource\n",
    "\n",
    "+ **GET**: Obtains (a representation of) an existing resource\n",
    "\n",
    "+ **PUT**: Updates or Replaces an existing resource\n",
    "\n",
    "+ **DELETE**: Eliminates an existing resource"
   ]
  },
  {
   "cell_type": "markdown",
   "metadata": {
    "slideshow": {
     "slide_type": "slide"
    }
   },
   "source": [
    "# WebServices REST in Java (using JAX-RS)"
   ]
  },
  {
   "cell_type": "markdown",
   "metadata": {
    "slideshow": {
     "slide_type": "slide"
    }
   },
   "source": [
    "## Development of a WebServices REST in Java\n",
    "\n",
    "**Jersey** (JAX-RS) is a framework that simplifies the development of REST services in Java.\n",
    "\n",
    "+ Java code is **instrumented** through **annotations** (e.g., @PATH, @GET, @POST, @DELETE, …)\n",
    "\n",
    "+ Java Reflection is used by the Jersey runtime to generate code automatically based on those annotations.\n",
    "\n",
    "\n",
    "Want to know more? [Jersey 3.x](https://eclipse-ee4j.github.io/jersey.github.io/documentation/latest3x/index.html)\n"
   ]
  },
  {
   "cell_type": "markdown",
   "metadata": {
    "slideshow": {
     "slide_type": "slide"
    }
   },
   "source": [
    "## Development of a WebServices REST in java\n",
    "\n",
    "Jersey is split into multiple libraries. \n",
    "\n",
    "**Maven** can handle Jersey dependencies via the ***pom.xml***:\n",
    "```xml\n",
    "<dependencies>\n",
    "    <dependency>\n",
    "        <groupId>org.glassfish.jersey.media</groupId>\n",
    "        <artifactId>jersey-media-json-jackson</artifactId>\n",
    "        <version>3.0.4</version>\n",
    "    </dependency>\n",
    "    <dependency>\n",
    "        <groupId>org.glassfish.jersey.containers</groupId>\n",
    "        <artifactId>jersey-container-jdk-http</artifactId>\n",
    "        <version>3.0.4</version>\n",
    "    </dependency>\n",
    "    ...\n",
    "</dependencies>\n",
    "```"
   ]
  },
  {
   "cell_type": "markdown",
   "metadata": {
    "slideshow": {
     "slide_type": "slide"
    }
   },
   "source": [
    "## Development of a WebServices REST in Java\n",
    "\n",
    "Consider an **User management service**\n",
    "\n",
    "+ **Users** are defined by their *e-mail*, unique *userId*, *full name*, and *password*;\n",
    " + Users are modelled by a User class.\n",
    "\n",
    "\n",
    "+ A server is responsible for keeping information for all users in the system, it allows:\n",
    "\n",
    " + Create a new user (given the information above) if the users does not exist already;\n",
    " + Obtain the information of a user given its username and password;\n",
    " + Update the information of a user given its username and password;\n",
    " + Delete an user given its username and password;\n",
    " + Search users by specifying a regular expression.\n"
   ]
  },
  {
   "cell_type": "markdown",
   "metadata": {
    "slideshow": {
     "slide_type": "slide"
    }
   },
   "source": [
    "## User resource \n",
    "\n",
    "Resources are modelled as Java classes, with some requirements.\n",
    "```java\n",
    "public class User {\n",
    "    private String email;\n",
    "    private String userId;\n",
    "    private String fullName;\n",
    "    private String password;\n",
    "\n",
    "    public User(){\t\n",
    "    }\n",
    "    \n",
    "    public User(String userId, String fullName, String email, String password) {\n",
    "        this.email = email;\n",
    "        this.userId = userId;\n",
    "        this.fullName = fullName;\n",
    "        this.password = password;\n",
    "    }\n",
    "    ...\n",
    "}\n",
    "```"
   ]
  },
  {
   "cell_type": "markdown",
   "metadata": {
    "slideshow": {
     "slide_type": "notes"
    }
   },
   "source": [
    "Notes:\n",
    "+ **Required:** public constructor without arguments;\n",
    "+ **Good practice:** state as **private** fields\n",
    " + Getter/setter methods for **private** fields; needed for serialization and deserialization to/from network."
   ]
  },
  {
   "cell_type": "markdown",
   "metadata": {
    "slideshow": {
     "slide_type": "slide"
    }
   },
   "source": [
    "## Defining the REST Service Interface\n",
    "\n",
    "Java interface enriched with Jersey's [annotations](https://docs.oracle.com/javase/tutorial/java/annotations/).\n",
    "\n",
    "```java\n",
    "@Path(RestUsers.PATH)\n",
    "public interface RestUsers {\n",
    "    public static final String PATH = \"/users\";\n",
    "    public static final String USER_ID = \"userId\";\n",
    "    public static final String PASSWORD = \"password\";\n",
    "\n",
    "    @POST\n",
    "    @Consumes(MediaType.APPLICATION_JSON)\n",
    "    @Produces(MediaType.APPLICATION_JSON)\n",
    "    String createUser(User user);\n",
    "\n",
    "    @GET\n",
    "    @Path(\"/{\" + USER_ID + \"}\")\n",
    "    @Produces(MediaType.APPLICATION_JSON)\n",
    "    User getUser(@PathParam(USER_ID) String userId, @QueryParam(PASSWORD) String password);\n",
    "    ...\n",
    "}\n",
    "```"
   ]
  },
  {
   "cell_type": "markdown",
   "metadata": {
    "slideshow": {
     "slide_type": "slide"
    }
   },
   "source": [
    "#### @Path(STRING)\n",
    "\n",
    "Used to define the base path of the URL used for accessing the service.\n",
    "\n",
    "```java\n",
    "@Path(RestUsers.PATH)\n",
    "public interface RestUsers {\n",
    "\n",
    "    public static final String PATH = \"/users\";\n",
    "    ...\n",
    "}\n",
    "```"
   ]
  },
  {
   "cell_type": "markdown",
   "metadata": {
    "slideshow": {
     "slide_type": "notes"
    }
   },
   "source": [
    "The URL of the service is defined by appending the annotation's value to the base URL of the server.\n",
    "\n",
    "For example, if the server URL is `http://myserver:8080/rest`, the service will be accessible at `http://myserver:8080/rest/users`"
   ]
  },
  {
   "cell_type": "markdown",
   "metadata": {
    "slideshow": {
     "slide_type": "slide"
    }
   },
   "source": [
    "#### @POST\n",
    "\n",
    "Used to create a ***new*** resource.\n",
    "\n",
    "```java\n",
    "@POST\n",
    "@Consumes(MediaType.APPLICATION_JSON)\n",
    "@Produces(MediaType.APPLICATION_JSON)\n",
    "String createUser(User user);\n",
    "```"
   ]
  },
  {
   "cell_type": "markdown",
   "metadata": {
    "slideshow": {
     "slide_type": "notes"
    }
   },
   "source": [
    "A HTTP POST request is used when the service is accessed."
   ]
  },
  {
   "cell_type": "markdown",
   "metadata": {
    "slideshow": {
     "slide_type": "slide"
    }
   },
   "source": [
    "#### @Consumes\n",
    "\n",
    "Indicates the method will receive an argument through the body of the HTTP request\n",
    "\n",
    "```java\n",
    "@POST\n",
    "@Consumes(MediaType.APPLICATION_JSON)\n",
    "@Produces(MediaType.APPLICATION_JSON)\n",
    "String createUser(User user);\n",
    "```"
   ]
  },
  {
   "cell_type": "markdown",
   "metadata": {
    "slideshow": {
     "slide_type": "notes"
    }
   },
   "source": [
    "We typically encode Java objects sent in the body of an HTTP request in JavaScript Object Notation (JSON) "
   ]
  },
  {
   "cell_type": "markdown",
   "metadata": {
    "slideshow": {
     "slide_type": "slide"
    }
   },
   "source": [
    "#### @Produces\n",
    "\n",
    "Indicates the method will return a value encoded in the body of the HTTP response.\n",
    "\n",
    "```java\n",
    "@POST\n",
    "@Consumes(MediaType.APPLICATION_JSON)\n",
    "@Produces(MediaType.APPLICATION_JSON)\n",
    "String createUser(User user);\n",
    "```"
   ]
  },
  {
   "cell_type": "markdown",
   "metadata": {
    "slideshow": {
     "slide_type": "slide"
    }
   },
   "source": [
    "#### @Consumes / @Produces \n",
    "\n",
    "Jersey supports various types of encodings, including:\n",
    "\n",
    "+ **JSON** (MediaType.APPLICATION_JSON), for simplicity\n",
    "+ **Text** (MediaType.TEXT_PLAIN)\n",
    "+ **XML** (MediaType.APPLICATION_XML)\n",
    "\n",
    "and\n",
    "\n",
    "+ **Octet-stream** (MediaType.APPLICATION_OCTET_STREAM),<br> for transferring binary data (`byte[]`)."
   ]
  },
  {
   "cell_type": "markdown",
   "metadata": {
    "slideshow": {
     "slide_type": "slide"
    }
   },
   "source": [
    "#### @GET\n",
    "\n",
    "Used to get the representation of an existing resource.\n",
    "```java\n",
    "public static final String USER_ID = \"userId\";\n",
    "public static final String PASSWORD = \"password\";\n",
    "\n",
    "@GET\n",
    "@Path(\"/{\" + USER_ID + \"}\")\n",
    "@Produces(MediaType.APPLICATION_JSON)\n",
    "User getUser(@PathParam(USER_ID) String userId, @QueryParam(PASSWORD) String password);\n",
    "```"
   ]
  },
  {
   "cell_type": "markdown",
   "metadata": {
    "slideshow": {
     "slide_type": "slide"
    }
   },
   "source": [
    "#### @QueryParam\n",
    "\n",
    "Used to retrieve *optional* (query parameter) values ***from the request***.\n",
    "\n",
    "+ **@QueryParam(key)**\n",
    "+ **@DefaultValue(value)**,<br> can used to supply a default value when *key* is missing in the request "
   ]
  },
  {
   "cell_type": "markdown",
   "metadata": {
    "slideshow": {
     "slide_type": "slide"
    }
   },
   "source": [
    "#### @Path\n",
    "In a method refers to what follows **in addition** to the service base path.\n",
    "\n",
    "```java\n",
    "public static final String USER_ID = \"userId\";\n",
    "\n",
    "@GET\n",
    "@Path(\"/{\" + USER_ID + \"}\")\n",
    "@Produces(MediaType.APPLICATION_JSON)\n",
    "User getUser(@PathParam(USER_ID) String userId, @QueryParam(PASSWORD) String password);\n",
    "```\n",
    "\n",
    "Example: `http://myserver:8080/rest/users/preguiça?password=12345`"
   ]
  },
  {
   "cell_type": "markdown",
   "metadata": {
    "slideshow": {
     "slide_type": "notes"
    }
   },
   "source": [
    "The method will be invoked with `\"preguiça\"` as the value of `userId`, and\n",
    "`password` will be `12345`."
   ]
  },
  {
   "cell_type": "markdown",
   "metadata": {
    "slideshow": {
     "slide_type": "slide"
    }
   },
   "source": [
    "#### @Path + @PathParam\n",
    "\n",
    "Used in combination to encode and retrieve values ***as part of request path***.\n",
    "\n",
    "+ **@Path(\"/.../{var1}/.../{var2}/...\")**\n",
    "+ **@PathParam(var1)**\n",
    "+ **@PathParam(var2)**"
   ]
  },
  {
   "cell_type": "markdown",
   "metadata": {
    "slideshow": {
     "slide_type": "notes"
    }
   },
   "source": [
    "Variables obtained from the path have to be associated with a matching parameter.\n",
    "\n",
    "Only simple primitive types (and strings) can be passed this way. "
   ]
  },
  {
   "cell_type": "markdown",
   "metadata": {
    "slideshow": {
     "slide_type": "slide"
    }
   },
   "source": [
    "#### @PUT\n",
    "\n",
    "Used to ***update*** an *existing* resource.\n",
    "```java\n",
    "public static final String USER_ID = \"userId\";\n",
    "public static final String PASSWORD = \"password\";\n",
    "\n",
    "@PUT\n",
    "@Path(\"/{\" + USER_ID + \"}\")\n",
    "@Consumes(MediaType.APPLICATION_JSON)\n",
    "@Produces(MediaType.APPLICATION_JSON)\n",
    "User updateUser(@PathParam(USER_ID) String userId, @QueryParam(PASSWORD) String password, User user);\n",
    "```        "
   ]
  },
  {
   "cell_type": "markdown",
   "metadata": {
    "slideshow": {
     "slide_type": "notes"
    }
   },
   "source": [
    "The example includes the three ways for passing arguments already shown:\n",
    " + as part of the path;\n",
    " + as a query parameter;\n",
    " + encoded in the request HTTP body (as JSON)."
   ]
  },
  {
   "cell_type": "markdown",
   "metadata": {
    "slideshow": {
     "slide_type": "slide"
    }
   },
   "source": [
    "### Repeated @Path Annotations\n",
    "\n",
    "```java\n",
    "@GET\n",
    "@Path(\"/{\" + USER_ID + \"}\")\n",
    "@Produces(MediaType.APPLICATION_JSON)\n",
    "User getUser(@PathParam(USER_ID) String userId, @QueryParam(PASSWORD) String password);\n",
    "   \n",
    "@PUT\n",
    "@Path(\"/{\" + USER_ID + \"}\")\n",
    "@Consumes(MediaType.APPLICATION_JSON)\n",
    "@Produces(MediaType.APPLICATION_JSON)\n",
    "User updateUser(@PathParam(USER_ID) String userId, @QueryParam(PASSWORD) String password, User user);\n",
    "\n",
    "@DELETE\n",
    "@Path(\"/{\" + USER_ID + \"}\")\n",
    "@Produces(MediaType.APPLICATION_JSON)\n",
    "User deleteUser(@PathParam(USER_ID) String userId, @QueryParam(PASSWORD) String password);\n",
    "```  \n",
    "Not ambiguous! Endpoints are distinguished by HTTP method (GET, PUT and DELETE, in this example)."
   ]
  },
  {
   "cell_type": "markdown",
   "metadata": {
    "slideshow": {
     "slide_type": "notes"
    }
   },
   "source": [
    "Note: ***@DELETE*** is used to delete an existing resource..."
   ]
  },
  {
   "cell_type": "markdown",
   "metadata": {
    "slideshow": {
     "slide_type": "notes"
    }
   },
   "source": [
    "### More on annotations and methods\n",
    "\n",
    "**GET** and **DELETE** are similar.\n",
    "+ Should avoid sending information in the request body;<br>**@Consumes** usually absent;\n",
    "\n",
    "**POST** and **PUT** are similar.\n",
    "+ Should always send a representation of the resource in the body of the HTTP request;<br>**@Consumes** usually expected;\n",
    "\n",
    "**GET** should always return a representation of the resource.\n",
    "+ **@Produces** usually expected."
   ]
  },
  {
   "cell_type": "markdown",
   "metadata": {
    "slideshow": {
     "slide_type": "slide"
    }
   },
   "source": [
    "# Implementing the Service"
   ]
  },
  {
   "cell_type": "markdown",
   "metadata": {
    "slideshow": {
     "slide_type": "slide"
    }
   },
   "source": [
    "### Service resources\n",
    "\n",
    "A Java class that implements the service API\n",
    "\n",
    "```java\n",
    "@Singleton\n",
    "public class UsersResource implements RestUsers {\n",
    "    ...\n",
    "    public UsersResource() {\n",
    "    }\n",
    "   \n",
    "    public String createUser(User user) {\n",
    "     ...\n",
    "    }\n",
    "    ...\n",
    "}\n",
    "```"
   ]
  },
  {
   "cell_type": "markdown",
   "metadata": {
    "slideshow": {
     "slide_type": "slide"
    }
   },
   "source": [
    "#### @Singleton\n",
    "\n",
    "Used on resources that keep internal state.<br>\n",
    "+ Jersey engine will use the same single instance across requests. \n",
    "\n",
    "Omitted when a **stateless** server is desired.<br>\n",
    "+ Jersey runtime will create a **new instance per request**.\n",
    "\n",
    "Requires a no-args construtor."
   ]
  },
  {
   "cell_type": "markdown",
   "metadata": {
    "slideshow": {
     "slide_type": "slide"
    }
   },
   "source": [
    "### Service implementation methods\n",
    "```java\n",
    "public String createUser(User user) {\n",
    "    // Check if user data is valid\n",
    "    if(user.getUserId() == null || user.getPassword() == null || user.getEmail() == null) {\n",
    "        throw new WebApplicationException( Status.BAD_REQUEST );\n",
    "    }\n",
    "    // Check if userId already exists\n",
    "    if( users.containsKey(user.getUserId())) {\n",
    "        throw new WebApplicationException( Status.CONFLICT );\n",
    "    }\n",
    "    users.put(user.getUserId(), user);\n",
    "    return user.getUserId();\n",
    "}\n",
    "```"
   ]
  },
  {
   "cell_type": "markdown",
   "metadata": {
    "slideshow": {
     "slide_type": "notes"
    }
   },
   "source": [
    "Annotations can be omitted in the service implementation methods."
   ]
  },
  {
   "cell_type": "markdown",
   "metadata": {
    "slideshow": {
     "slide_type": "slide"
    }
   },
   "source": [
    "### Reporting service errors\n",
    "\n",
    "[WebApplicationException](https://docs.oracle.com/javaee/7/api/javax/ws/rs/WebApplicationException.html) is used to report application errors to the client as HTTP status codes.\n",
    "\n",
    "```java\n",
    "if( users.containsKey(user.getUserId())) {\n",
    "    throw new WebApplicationException( Status.CONFLICT );\n",
    "}\n",
    "\n",
    "users.put(user.getUserId(), user);\n",
    "return user.getUserId();\n",
    "```\n",
    "\n",
    "HTTP **200/OK** is implicit when the method returns a value normally."
   ]
  },
  {
   "cell_type": "markdown",
   "metadata": {
    "slideshow": {
     "slide_type": "skip"
    }
   },
   "source": [
    "### Important HTTP Response Codes\n",
    "\n",
    "Range 100 – 199: Information (rarely seen)\n",
    "\n",
    "Range 200 – 299: Success\n",
    " + **200 OK** (the operation was successful, and the reply contains information)\n",
    " + **204 No Content** (the operation was successful but there is no information returned).\n",
    "\n",
    "Range 300 – 399: Redirection: additional action is required\n",
    "\n",
    " + **301 Moved Permanently** (the resource is now represented by a new URL, which is provided in this answer)\n",
    "\n",
    "Range 400 – 499: Client Error (e.g., preparing request)\n",
    "\n",
    "+ **400 Bad Request**\n",
    "+ **403 Forbidden**\n",
    "+ **404 Not Found** - Page/Resource not found\n",
    "+ **409 Conflict** – executing the request violates logic rules\n",
    "\n",
    "Range 500 – 599: Server Error\n",
    "\n",
    "+ **500 Internal Server Error** – usually means an unhandled exception was thrown while executing request"
   ]
  },
  {
   "cell_type": "markdown",
   "metadata": {
    "slideshow": {
     "slide_type": "slide"
    }
   },
   "source": [
    "### REST  Server\n",
    "\n",
    "REST resources are exposed as endpoints of a HTTP server.\n",
    "\n",
    "```java\n",
    "public class UsersServer {\n",
    "    ...\n",
    "    public static final int PORT = 8080;\n",
    "    public static final String SERVICE = \"UsersService\";\n",
    "    private static final String SERVER_URI_FMT = \"http://%s:%s/rest\";\n",
    "\n",
    "    public static void main(String[] args) {\n",
    "        try {\n",
    "            ResourceConfig config = new ResourceConfig();\n",
    "            config.register(UsersResource.class);\n",
    "\n",
    "            String ip = InetAddress.getLocalHost().getHostAddress();\n",
    "            String serverURI = String.format(SERVER_URI_FMT, ip, PORT);\n",
    "            \n",
    "            JdkHttpServerFactory.createHttpServer( URI.create(serverURI), config);\n",
    "          \n",
    "            //More code can be executed here...\n",
    "        } catch( Exception e) {\n",
    "            ...\n",
    "        }\n",
    "    }\n",
    "}\n",
    "```"
   ]
  },
  {
   "cell_type": "markdown",
   "metadata": {
    "slideshow": {
     "slide_type": "slide"
    }
   },
   "source": [
    "#### Registering resources\n",
    "\n",
    "```java\n",
    "ResourceConfig config = new ResourceConfig();\n",
    "config.register(UsersResource.class);\n",
    "```\n",
    "\n",
    "[ResourceConfig](https://www.javadoc.io/doc/org.glassfish.jersey.core/jersey-server/latest/org/glassfish/jersey/server/ResourceConfig.html) is used to register resources in a server.\n",
    " + Multiple resources (i.e., services) can be registered, but they need to have different (top-level) @Path annotations."
   ]
  },
  {
   "cell_type": "markdown",
   "metadata": {
    "slideshow": {
     "slide_type": "slide"
    }
   },
   "source": [
    "#### Instancing the HTTP server\n",
    "    \n",
    "The server is instanced using its [URI(https://docs.oracle.com/en/java/javase/17/docs/api/java.base/java/net/URI.html).\n",
    "\n",
    "```java\n",
    "String ip = InetAddress.getLocalHost().getHostAddress();\n",
    "String serverURI = String.format(SERVER_URI_FMT, ip, PORT);           \n",
    "JdkHttpServerFactory.createHttpServer( URI.create(serverURI), config);          \n",
    "```\n",
    "[JdkHttpServerFactory](https://eclipse-ee4j.github.io/jersey.github.io/apidocs/snapshot/jersey/index.html?org/glassfish/jersey/jdkhttp/JdkHttpServerFactory.html) launches a HTTP server in a separate thread. "
   ]
  },
  {
   "cell_type": "markdown",
   "metadata": {
    "slideshow": {
     "slide_type": "slide"
    }
   },
   "source": [
    "# Implementing the Client"
   ]
  },
  {
   "cell_type": "markdown",
   "metadata": {
    "slideshow": {
     "slide_type": "slide"
    }
   },
   "source": [
    "### CreateUserClient\n",
    "```java\n",
    "ClientConfig config = new ClientConfig();\n",
    "Client client = ClientBuilder.newClient(config);\n",
    "\n",
    "WebTarget target = client.target( serverUrl ).path( RestUsers.PATH );\n",
    "\n",
    "User u = new User( userId, fullName, email, password);\n",
    "\n",
    "Response r = target.request()\n",
    "                   .accept(MediaType.APPLICATION_JSON)\n",
    "                   .post(Entity.entity(u, MediaType.APPLICATION_JSON));\n",
    "\n",
    "if( r.getStatus() == Status.OK.getStatusCode() && r.hasEntity() )\n",
    "    System.out.println(\"Success, created user with id: \" + r.readEntity(String.class) );\n",
    "else\n",
    "    System.out.println(\"Error, HTTP error status: \" + r.getStatus() );\n",
    "```"
   ]
  },
  {
   "cell_type": "markdown",
   "metadata": {
    "slideshow": {
     "slide_type": "slide"
    }
   },
   "source": [
    "### ClientConfig + Client\n",
    "```java\n",
    "ClientConfig config = new ClientConfig();\n",
    "Client client = ClientBuilder.newClient(config);\n",
    "```\n",
    "\n",
    "[ClientConfig](https://eclipse-ee4j.github.io/jersey.github.io/apidocs/3.0.4/jersey/org/glassfish/jersey/client/ClientConfig.html) is used for controlling client behavior, such as connection timeouts.\n",
    "\n",
    "[Client](https://javadoc.io/doc/jakarta.ws.rs/jakarta.ws.rs-api/latest/jakarta/ws/rs/client/Client.html) represents a Jersey client.\n"
   ]
  },
  {
   "cell_type": "markdown",
   "metadata": {
    "slideshow": {
     "slide_type": "notes"
    }
   },
   "source": [
    "### WebTarget\n",
    "\n",
    "```java\n",
    "ClientConfig config = new ClientConfig();\n",
    "Client client = ClientBuilder.newClient(config);\n",
    "\n",
    "WebTarget target = client.target( serverUri ).path( RestUsers.PATH );\n",
    "```\n",
    "\n",
    "[WebTarget](https://javadoc.io/doc/jakarta.ws.rs/jakarta.ws.rs-api/latest/jakarta/ws/rs/client/WebTarget.html) is used to point to a service instance, given its [URI](https://docs.oracle.com/en/java/javase/17/docs/api/java.base/java/net/URI.html);<br> \n",
    " \n",
    " Can be assembled by concatenation of any number of other elements to the URI;<br>\n"
   ]
  },
  {
   "cell_type": "code",
   "execution_count": null,
   "metadata": {
    "slideshow": {
     "slide_type": "notes"
    }
   },
   "outputs": [],
   "source": [
    "In the example, the path corresponding to the top-level @Path annotation of the RestUsers interface is needed. \n",
    "+ `http://myserver:8080/rest` + `/users`"
   ]
  },
  {
   "cell_type": "markdown",
   "metadata": {},
   "source": [
    "### Parametrization and Invocation\n",
    "***.request()*** is used to build the request to the targeted web resource incrementally;<br>\n",
    "***.accept(MediaType.APPLICATION_JSON***) indicates the format of the return value in the body of the HTTP response;<br>\n",
    "     -- The format must match the @Produces annotation on the server;<br>\n",
    "     -- Only necessary when the endpoint returns a value.<br>\n",
    "\n",
    "***.post(Entity.entity(u, MediaType.APPLICATION_JSON));*** issues the actual request, using the POST HTTP method, <br> \n",
    "    -- The [Entity](https://javadoc.io/doc/jakarta.ws.rs/jakarta.ws.rs-api/latest/jakarta/ws/rs/client/Entity.html) class is used to encode the argument in the specified format;<br>\n",
    "    -- Must match the format specified at the server via the @Consumes annotation;<br>"
   ]
  },
  {
   "cell_type": "markdown",
   "metadata": {
    "slideshow": {
     "slide_type": "slide"
    }
   },
   "source": [
    "### Processing the Response\n",
    "\n",
    "```java\n",
    "Response r = ... ;\n",
    "\n",
    "if( r.getStatus() == Status.OK.getStatusCode() && r.hasEntity() )\n",
    "    System.out.println(\"Success, created user with id: \" + r.readEntity(String.class) );\n",
    "else\n",
    "    System.out.println(\"Error, HTTP error status: \" + r.getStatus() );\n",
    "```"
   ]
  },
  {
   "cell_type": "markdown",
   "metadata": {
    "slideshow": {
     "slide_type": "notes"
    }
   },
   "source": [
    "Note:\n",
    "\n",
    "[Response](https://javadoc.io/doc/jakarta.ws.rs/jakarta.ws.rs-api/latest/jakarta/ws/rs/core/Response.html) tells if a request succeeded\n",
    "or if it failed and why; also provides ways to check for a response value and decoded it.\n",
    "\n",
    "[Response.Status](https://javadoc.io/doc/jakarta.ws.rs/jakarta.ws.rs-api/latest/jakarta/ws/rs/core/Response.Status.html) corresponds to the HTTP reply status code.\n",
    "\n",
    "On success, if an [entity](https://javadoc.io/doc/jakarta.ws.rs/jakarta.ws.rs-api/latest/jakarta/ws/rs/client/Entity.html) (response value) is present,\n",
    "it can be read from the HTTP reponse body via **.readEntity()** methods:\n",
    "\n",
    "  With simple class types, use code like:\n",
    "  ```java \n",
    "    r.readEntity( String.class );\n",
    "    r.readEntity( String[].class );\n",
    "    r.readEntity( User.class );\n",
    "  ```\n",
    "\n",
    "  With generic class types, use instead:\n",
    " ```java\n",
    "    r.readEntity(new GenericType<List<User>>() {});\n",
    "    r.readEntity(new GenericType<Map<String, User>>() {});\n",
    " ``` \n"
   ]
  },
  {
   "cell_type": "markdown",
   "metadata": {
    "slideshow": {
     "slide_type": "slide"
    }
   },
   "source": [
    "### GetUserClient\n",
    "```java\n",
    "...\n",
    "ClientConfig config = new ClientConfig();\n",
    "Client client = ClientBuilder.newClient(config);\n",
    "\n",
    "WebTarget target = client.target( serverUrl ).path( RestUsers.PATH );\n",
    "    \n",
    "Response r = target.path( userId )\n",
    "                   .queryParam(RestUsers.PASSWORD, password)\n",
    "                   .request()\n",
    "                   .accept(MediaType.APPLICATION_JSON)\n",
    "                   .get();\n",
    "...\n",
    "```"
   ]
  },
  {
   "cell_type": "markdown",
   "metadata": {
    "slideshow": {
     "slide_type": "notes"
    }
   },
   "source": [
    "Take notice on:\n",
    "    \n",
    "***.path( userId )*** concatenates the `userId` argument to the request path already present in the ***target***;<br>\n",
    "***.queryParam(RestUsers.PASSWORD, password)*** is used to supply the `password` argument by appending `?password=<value>` request target URI."
   ]
  },
  {
   "cell_type": "markdown",
   "metadata": {
    "slideshow": {
     "slide_type": "slide"
    }
   },
   "source": [
    "# Testing with Docker"
   ]
  },
  {
   "cell_type": "markdown",
   "metadata": {
    "slideshow": {
     "slide_type": "slide"
    }
   },
   "source": [
    "1. Build the image (run in your project folder):\n",
    "\n",
    "    `mvn clean compile assembly:single docker:build`\n",
    "\n",
    "2. Create the docker network `sdnet`\n",
    "\n",
    "    `docker network create -d bridge sdnet`\n",
    "\n",
    "3. Run the server in a named container (with port forwarding)\n",
    "\n",
    "    `docker run -h users-1 --name users-1 --network sdnet -p 8080:8080 sd2122-aula2-xxxxx-yyyyy`\n"
   ]
  },
  {
   "cell_type": "markdown",
   "metadata": {
    "slideshow": {
     "slide_type": "slide"
    }
   },
   "source": [
    "### Create a user\n",
    "\n",
    "4. Run another container in interactive mode (to execute clients) in a second terminal window\n",
    "\n",
    "   `docker run -it --network sdnet sd2122-aula2-xxxxx-yyyyy /bin/bash`\n",
    "   \n",
    "   \n",
    "5. Type in the container shell:\n",
    "\n",
    "   `java -cp /home/sd/sd2122.jar sd2122.aula2.clients.CreateUserClient http://users-1:8080/rest nmp \"Nuno Preguica\" nmp@nova.unl.pt 12345`"
   ]
  },
  {
   "cell_type": "markdown",
   "metadata": {
    "slideshow": {
     "slide_type": "slide"
    }
   },
   "source": [
    "### Get the user\n",
    "\n",
    "6. Type in the container shell:\n",
    "    \n",
    "    `java -cp /home/sd/sd2122.jar sd2122.aula2.clients.GetUserClient http://users-1:8080/rest preguica 12345`"
   ]
  },
  {
   "cell_type": "markdown",
   "metadata": {
    "slideshow": {
     "slide_type": "slide"
    }
   },
   "source": [
    "### Get the user (using the browser)\n",
    "\n",
    "***GET*** requests are compatible with normal HTTP requests, like those issued by a browser.\n",
    "\n",
    "7. Click on:\n",
    "\n",
    "[http://localhost:8080/rest/users/preguica?password=12345](http://localhost:8080/rest/users/preguica?password=12345)"
   ]
  },
  {
   "cell_type": "markdown",
   "metadata": {
    "slideshow": {
     "slide_type": "notes"
    }
   },
   "source": [
    "The service is accessible by the host, because:\n",
    "\n",
    "`docker run ... -p 8080:8080 ...` exposes the `8080`port of the container as the `8080` port of the host."
   ]
  },
  {
   "cell_type": "markdown",
   "metadata": {
    "slideshow": {
     "slide_type": "slide"
    }
   },
   "source": [
    "# Exercises\n",
    "\n",
    "+ Complete the server.\n",
    "\n",
    "+ Complete the clients\n",
    "\n",
    "+ Test your implementations using docker.\n",
    "\n",
    "+ Integrate the Discovery class from last week to enable all clients to obtain the server URL automatically.\n"
   ]
  },
  {
   "cell_type": "markdown",
   "metadata": {
    "slideshow": {
     "slide_type": "notes"
    }
   },
   "source": [
    "##### Notes:\n",
    "\n",
    "In the server, implement failure semantics described in the service API, namely: \n",
    " + When operation arguments are invalid (e.g. NULL), fail with 400 (Bad Request)\n",
    " + Updating or deleting a user that does not exist fails with 404 (Not Found).\n",
    " + Updating or deleting a user fails if password is incorrent with 403 (Forbidden).\n",
    "\n",
    "Moreover, for the searchUsers method, if no pattern is provided you return all users, if there are no users, you return an empty list, and if a pattern is provided you should check each user individually and add it to the return list only if his name contains the exact sequence of chars in the pattern variable (String class has a method that can help you)."
   ]
  }
 ],
 "metadata": {
  "celltoolbar": "Slideshow",
  "kernelspec": {
   "display_name": "Python 3 (ipykernel)",
   "language": "python",
   "name": "python3"
  },
  "language_info": {
   "codemirror_mode": {
    "name": "ipython",
    "version": 3
   },
   "file_extension": ".py",
   "mimetype": "text/x-python",
   "name": "python",
   "nbconvert_exporter": "python",
   "pygments_lexer": "ipython3",
   "version": "3.9.10"
  }
 },
 "nbformat": 4,
 "nbformat_minor": 4
}
